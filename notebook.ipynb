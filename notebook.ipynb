{
 "cells": [
  {
   "cell_type": "code",
   "execution_count": 4,
   "metadata": {},
   "outputs": [],
   "source": [
    "import numpy as np\n",
    "import matplotlib.pyplot as plt\n",
    "import pandas as pd\n",
    "import seaborn as sns\n",
    "import bridgedatabase\n",
    "import scipy as sp\n",
    "import math as ma\n",
    "import scipy.stats as stats\n",
    "import statsmodels.api as sm\n",
    "\n",
    "from sklearn.model_selection import train_test_split, cross_val_score, GridSearchCV\n",
    "from sklearn import neighbors, linear_model, naive_bayes, metrics\n",
    "from sklearn.discriminant_analysis import LinearDiscriminantAnalysis as lda\n",
    "from sklearn.discriminant_analysis import QuadraticDiscriminantAnalysis as qda\n",
    "from sklearn.metrics import confusion_matrix # matrice de confusion\n",
    "from sklearn.metrics import classification_report # rapports de classification\n",
    "\n"
   ]
  },
  {
   "cell_type": "markdown",
   "metadata": {},
   "source": [
    "# Get data\n",
    "\n",
    "\n",
    "\n",
    "Create bdb object\n"
   ]
  },
  {
   "cell_type": "code",
   "execution_count": 5,
   "metadata": {},
   "outputs": [],
   "source": [
    "bd = bridgedatabase.bdb()"
   ]
  },
  {
   "cell_type": "markdown",
   "metadata": {},
   "source": [
    "# Get bridge list in the database"
   ]
  },
  {
   "cell_type": "code",
   "execution_count": 6,
   "metadata": {},
   "outputs": [
    {
     "name": "stdout",
     "output_type": "stream",
     "text": [
      "Reading file Alge_Khemis El Afroun_PRA PB69142 SV_PF6.xlsx\n",
      "Reading file Alge_Khemis El Afroun_PRA PB69142_PF6.xlsx\n",
      "Reading file Alge_Khemis El Afroun_PRA PBP114+262_PF6.xlsx\n",
      "Reading file Alge_Khemis El Afroun_PRA PBP115_PF6.xlsx\n",
      "Reading file Alge_Khemis El Afroun_PRA PBP69DV_PF6.xlsx\n",
      "Reading file Alge_Khemis El Afroun_PRA PBP90_PF6.xlsx\n",
      "Reading file Alge_Khemis El Afroun_PRA PBP91_PF6.xlsx\n",
      "Reading file Alge_Khemis El Afroun_PRA PBP92_PF6.xlsx\n",
      "Reading file Alge_Khemis El Afroun_PRA116_PF6.xlsx\n",
      "Reading file BPL_PRA CBA 0292_PF2.xlsx\n",
      "Reading file BPL_PRA CBA 0476_PF2.xlsx\n",
      "Reading file BPL_PRA CBA 0482_PF2.xlsx\n",
      "Reading file BPL_PRA CBA 0491_PF2.xlsx\n",
      "Reading file BPL_PRA CBA 0517_PF2.xlsx\n",
      "Reading file BPL_PRA CBA 1544_PF2.xlsx\n",
      "Reading file BPL_PRA CBA 1580_PF2.xlsx\n",
      "Reading file BPL_PRA CBA 1589_PF2.xlsx\n",
      "Reading file BPL_PRA CBA 1637_PF2.xlsx\n",
      "Reading file BPL_PRA CBA 1672_PF2.xlsx\n",
      "Reading file BPL_PRA CBA 1701_PF2.xlsx\n",
      "Reading file BPL_PRA CBA 1784_PF2.xlsx\n",
      "Reading file BPL_PRA CBA 1794_PF2.xlsx\n",
      "Reading file BPL_PRA OM 0238_PF8.xlsx\n",
      "Reading file BPL_PRA OM 0357_PF8.xlsx\n",
      "Reading file BPL_PRA PBA 0477_PF5.xlsx\n",
      "Reading file BPL_PRA PBA 1352_PF3.xlsx\n",
      "Reading file BPL_PRA PBA 1422_PF1.xlsx\n",
      "Reading file BPL_PRA PBA 1557_PF1.xlsx\n",
      "Reading file BPL_PRA PIPO 0278_PF1.xlsx\n",
      "Reading file BPL_PRA PIPO 0287_PF1.xlsx\n",
      "Reading file BPL_PRA PIPO 0303_PF1.xlsx\n",
      "Reading file BPL_PRA PIPO 0338_PF1.xlsx\n",
      "Reading file BPL_PRA PIPO 0339_PF1.xlsx\n",
      "Reading file BPL_PRA PIPO 0373_PF1.xlsx\n",
      "Reading file BPL_PRA PIPO 0394_PF1.xlsx\n",
      "Reading file BPL_PRA PIPO 0533_PF1.xlsx\n",
      "Reading file BPL_PRA PIPO 0609_PF1.xlsx\n",
      "Reading file BPL_PRA PIPO 0917_PF1.xlsx\n",
      "Reading file BPL_PRA PIPO 1305_PF1.xlsx\n",
      "Reading file BPL_PRA PIPO 1347_PF1.xlsx\n",
      "Reading file BPL_PRA PIPO 1429_PF1.xlsx\n",
      "Reading file BPL_PRA PIPO 1502_PF1.xlsx\n",
      "Reading file BPL_PRA PIPO 1708_PF1.xlsx\n",
      "Reading file BPL_PRA PIPO 1716_PF1.xlsx\n",
      "Reading file BPL_PRA PIPO 1801_PF1.xlsx\n",
      "Reading file BPL_PRA RAPL 1058_PF17.xlsx\n",
      "Reading file BPL_PRA RAPL 1205_PF17.xlsx\n",
      "Reading file BPL_VIA La COURBE 0255_PF8.xlsx\n",
      "Reading file BPL_VIA La VAIGE 0836_PF8.xlsx\n",
      "Reading file BPL_VIA SARTHE 0214_PF8.xlsx\n",
      "Reading file BPL_VIA VICOIN 1183_PF8.xlsx\n",
      "Reading file BPL_VIA Vicoin Estacade 1226_PF8.xlsx\n",
      "Reading file Ethiopie_Awash_Ph1_Bdg01_PF8.xlsx\n",
      "Reading file Ethiopie_Awash_Ph1_Bdg02_PF8.xlsx\n",
      "Reading file Ethiopie_Awash_Ph1_Bdg03_PF8.xlsx\n",
      "Reading file Ethiopie_Awash_Ph1_Bdg04_PF8.xlsx\n",
      "Reading file Ethiopie_Awash_Ph1_Bdg05_PF8.xlsx\n",
      "Reading file Ethiopie_Awash_Ph1_Bdg06_PF8.xlsx\n",
      "Reading file Ethiopie_Awash_Ph1_Bdg07_PF8.xlsx\n",
      "Reading file Ethiopie_Awash_Ph1_Bdg08_PF8.xlsx\n",
      "Reading file Ethiopie_Awash_Ph1_Bdg09_PF8.xlsx\n",
      "Reading file Ethiopie_Awash_Ph1_Bdg10_PF8.xlsx\n",
      "Reading file Ethiopie_Awash_Ph1_Bdg11_PF8.xlsx\n",
      "Reading file Ethiopie_Awash_Ph1_Bdg12_PF8.xlsx\n",
      "Reading file Ethiopie_Awash_Ph1_Bdg13_PF8.xlsx\n",
      "Reading file Ethiopie_Awash_Ph1_Bdg14_PF8.xlsx\n",
      "Reading file Ethiopie_Awash_Ph1_Bdg15_PF8.xlsx\n",
      "Reading file Ethiopie_Awash_Ph1_Bdg16_PF8.xlsx\n",
      "Reading file Ethiopie_Awash_Ph1_Bdg17_PF8.xlsx\n",
      "Reading file Ethiopie_Awash_Ph1_Bdg18_PF8.xlsx\n",
      "Reading file Ethiopie_Awash_Ph1_Bdg19_PF8.xlsx\n",
      "Reading file Ethiopie_Awash_Ph1_Bdg20_PF8.xlsx\n",
      "Reading file Ethiopie_Awash_Ph1_Bdg21_PF8.xlsx\n",
      "Reading file Ethiopie_Awash_Ph1_Bdg22_PF8.xlsx\n",
      "Reading file Ethiopie_Awash_Ph1_Bdg23_PF8.xlsx\n",
      "Reading file Ethiopie_Awash_Ph1_Bdg24_PF8.xlsx\n",
      "Reading file Ethiopie_Awash_Ph1_Bdg25_PF8.xlsx\n",
      "Reading file Ethiopie_Awash_Ph1_Bdg26_PF8.xlsx\n",
      "Reading file Ethiopie_Awash_Ph1_Bdg27_PF8.xlsx\n",
      "Reading file Ethiopie_Awash_Ph1_Bdg28_PF8.xlsx\n",
      "Reading file Ethiopie_Awash_Ph1_Bdg29_PF8.xlsx\n",
      "Reading file Ethiopie_Awash_Ph1_Bdg30_PF8.xlsx\n",
      "Reading file Ethiopie_Awash_Ph1_Bdg31_PF8.xlsx\n",
      "Reading file Ethiopie_Awash_Ph1_Bdg32_PF8.xlsx\n",
      "Reading file Ethiopie_Awash_Ph1_Bdg33_PF8.xlsx\n",
      "Reading file Ethiopie_Awash_Ph1_Bdg34_PF8.xlsx\n",
      "Reading file Ethiopie_Awash_Ph1_Bdg35_PF8.xlsx\n",
      "Reading file Ethiopie_Awash_Ph1_Bdg36_PF8.xlsx\n",
      "Reading file Ethiopie_Awash_Ph1_Bdg37_PF8.xlsx\n",
      "Reading file Ethiopie_Awash_Ph1_Bdg38_PF8.xlsx\n",
      "Reading file Ethiopie_Awash_Ph1_Bdg39_PF8.xlsx\n",
      "Reading file Ethiopie_Awash_Ph1_Bdg40_PF8.xlsx\n",
      "Reading file Ethiopie_Awash_Ph1_Bdg41_PF8.xlsx\n",
      "Reading file Ethiopie_Awash_Ph1_Bdg42_PF8.xlsx\n",
      "Reading file Ethiopie_Awash_Ph1_Bdg43_PF8.xlsx\n",
      "Reading file Ethiopie_Awash_Ph2_Bdg44_PF8.xlsx\n",
      "Reading file Ethiopie_Awash_Ph2_Bdg45_PF8.xlsx\n",
      "Reading file Ethiopie_Awash_Ph2_Bdg46_PF8.xlsx\n",
      "Reading file Ethiopie_Awash_Ph2_Bdg47_PF8.xlsx\n",
      "Reading file Ethiopie_Awash_Ph2_Bdg48_PF8.xlsx\n",
      "Reading file Ethiopie_Awash_Ph2_Bdg49_PF8.xlsx\n",
      "Reading file Ethiopie_Awash_Ph2_Bdg50_PF8.xlsx\n",
      "Reading file Ethiopie_Awash_Ph2_Bdg51_PF8.xlsx\n",
      "Reading file Ethiopie_Awash_Ph2_Bdg52_PF8.xlsx\n",
      "Reading file Ethiopie_Awash_Ph2_Bdg53_PF8.xlsx\n",
      "Reading file Ethiopie_Awash_Ph2_Bdg54_PF8.xlsx\n",
      "Reading file Ethiopie_Awash_Ph2_Bdg55_PF8.xlsx\n",
      "Reading file Ethiopie_Awash_Ph2_Bdg56_PF8.xlsx\n",
      "Reading file Ethiopie_Awash_Ph2_Bdg57_PF8.xlsx\n",
      "Reading file Ethiopie_Awash_Ph2_Bdg58_PF8.xlsx\n",
      "Reading file Ethiopie_Awash_Ph2_Bdg59_PF8.xlsx\n",
      "Reading file Ethiopie_Awash_Ph2_Bdg60_PF8.xlsx\n",
      "Reading file Ethiopie_Awash_Ph2_Bdg61_PF8.xlsx\n",
      "Reading file Ethiopie_Awash_Ph2_Bdg62_PF8.xlsx\n",
      "Reading file Ethiopie_Awash_Ph2_Bdg63_PF8.xlsx\n",
      "Reading file Ethiopie_Awash_Ph2_Bdg64_PF8.xlsx\n",
      "Reading file Ethiopie_Awash_Ph2_Bdg65_PF8.xlsx\n",
      "Reading file HS2 Birmingham & fazeley ca viaduct_PF8.xlsx\n",
      "Reading file HS2 Black brook viaduct_PF6.xlsx\n",
      "Reading file HS2 Coleshill east viaduct_PF15.xlsx\n",
      "Reading file HS2 Coleshill west viaduct_PF15.xlsx\n",
      "Reading file HS2 Curdworth Viaduct_PF15.xlsx\n",
      "Reading file HS2 Langley brook viaduct sol2_PF6.xlsx\n",
      "Reading file HS2 Langley brook viaduct_PF6.xlsx\n",
      "Reading file HS2 M42 coleshill north viaduct_PF6.xlsx\n",
      "Reading file HS2 M42 coleshill south viaduct_PF6.xlsx\n",
      "Reading file HS2 M6 motorway box structure-Sol1_PF6.xlsx\n",
      "Reading file HS2 M6 motorway south viaduct-Sol1_PF6.xlsx\n",
      "Reading file HS2 M6 motorway south viaduct_sol3_PF6.xlsx\n",
      "Reading file HS2 River cole east viaduct_PF6.xlsx\n",
      "Reading file HS2 River cole west viaduct_PF6.xlsx\n",
      "Reading file HS2 River tame east viaduct_PF6.xlsx\n",
      "Reading file HS2 River tame viaduct_PF6.xlsx\n",
      "Reading file LFT-Pont sur l'Arc_PF19.xlsx\n",
      "Reading file LGV Californie_FRV Preliminary_PF12.xlsx\n",
      "Reading file LGV Californie_FV RFP_PF18.xlsx\n",
      "Reading file LGV CNM - OA Setec_PRA LF042-0_PF7.xlsx\n",
      "Reading file LGV CNM - OA Setec_PRA LF057-0_PF7.xlsx\n",
      "Reading file LGV CNM - OA Setec_PRA LF0581-0_PF7.xlsx\n",
      "Reading file LGV CNM - OA Setec_PRA SC0434_PF7.xlsx\n",
      "Reading file LGV CNM - OA Setec_PRA SC0435_PF1.xlsx\n",
      "Reading file LGV CNM - OA Setec_PRA SC0438_PF3.xlsx\n",
      "Reading file LGV CNM - OA Setec_PRA SC0441_PF2.xlsx\n",
      "Reading file LGV CNM - OA Setec_PRA SC0442_PF2.xlsx\n",
      "Reading file LGV CNM - OA Setec_PRA SC0446_PF7.xlsx\n",
      "Reading file LGV CNM - OA Setec_PRA SC0472_PF7.xlsx\n",
      "Reading file LGV CNM - OA Setec_PRA SC0479_PF7.xlsx\n",
      "Reading file LGV CNM - OA Setec_PRA SC0491_PF7.xlsx\n",
      "Reading file LGV CNM - OA Setec_PRA SC0501_PF7.xlsx\n",
      "Reading file LGV CNM - OA Setec_PRA SC0502_PF7.xlsx\n",
      "Reading file LGV CNM - OA Setec_PRA SC0508_PF7.xlsx\n",
      "Reading file LGV CNM - OA Setec_PRA SC0520_PF7.xlsx\n",
      "Reading file LGV CNM - OA Setec_PRA SC0527_PF7.xlsx\n",
      "Reading file LGV CNM - OA Setec_PRA SC0539_PF7.xlsx\n",
      "Reading file LGV CNM - OA Setec_PRA SC0551_PF7.xlsx\n",
      "Reading file LGV CNM - OA Setec_PRA SC0558_PF7.xlsx\n",
      "Reading file LGV CNM - OA Setec_PRA SC0561_PF7.xlsx\n",
      "Reading file LGV CNM - OA Setec_PRA VI004_PF7.xlsx\n",
      "Reading file LGV CNM - OA Setec_PRO SC0385_PF1.xlsx\n",
      "Reading file LGV CNM - OA Setec_VIA SC5610_PF7.xlsx\n",
      "Reading file LGV CNM - OA Setec_VIA SC5613_PF7.xlsx\n",
      "Reading file LGV CNM - OA Setec_VIA SC5617_PF7.xlsx\n",
      "Reading file LGV CNM - OA Setec_VIA SC5619_PF7.xlsx\n",
      "Reading file LGV CNM - OA Systra_PRA SC428_PF7.xlsx\n",
      "Reading file LGV CNM - OA Systra_PRA SC580_PF3.xlsx\n",
      "Reading file LGV CNM - OA Systra_PRA SC582_PF3.xlsx\n",
      "Reading file LGV CNM - OA Systra_PRA SC583_PF3.xlsx\n",
      "Reading file LGV CNM - OA Systra_PRA SC586_PF8.xlsx\n",
      "Reading file LGV CNM - OA Systra_PRA SC587_PF8.xlsx\n",
      "Reading file LGV CNM - OA Systra_PRA SC592_PF2.xlsx\n",
      "Reading file LGV CNM - OA Systra_PRA SC608_PF2.xlsx\n",
      "Reading file LGV CNM - OA Systra_PRA SC629_PF2.xlsx\n",
      "Reading file LGV CNM - OA Systra_PRA SC639_PF3.xlsx\n",
      "Reading file LGV CNM - OA Systra_PRA SC640_PF1.xlsx\n",
      "Reading file LGV CNM - OA Systra_PRA SC653_PF2.xlsx\n",
      "Reading file LGV CNM - OA Systra_PRA SC656_PF1.xlsx\n",
      "Reading file LGV CNM - OA Systra_PRA SC657_PF3.xlsx\n",
      "Reading file LGV CNM - OA Systra_PRA SC658_PF2.xlsx\n",
      "Reading file LGV CNM - OA Systra_PRA SC665_PF2.xlsx\n",
      "Reading file LGV CNM - OA Systra_PRA SC674_PF3.xlsx\n",
      "Reading file LGV CNM - OA Systra_PRA SC680_PF3.xlsx\n",
      "Reading file LGV CNM - OA Systra_PRA SC695_PF2.xlsx\n",
      "Reading file LGV CNM - OA Systra_PRA SC700_PF2.xlsx\n",
      "Reading file LGV CNM - OA Systra_PRA SC702_PF3.xlsx\n",
      "Reading file LGV CNM - OA Systra_PRA SC704_PF3.xlsx\n",
      "Reading file LGV CNM - OA Systra_PRA SC706_PF2.xlsx\n",
      "Reading file LGV CNM - OA Systra_PRA SC707_PF1.xlsx\n",
      "Reading file LGV CNM - OA Systra_PRA SC709_PF2.xlsx\n",
      "Reading file LGV CNM - OA Systra_PRA SC712_PF1.xlsx\n",
      "Reading file LGV CNM - OA Systra_PRA SC715_PF3.xlsx\n",
      "Reading file LGV CNM - OA Systra_PRA SC725_PF2.xlsx\n",
      "Reading file LGV CNM - OA Systra_PRA SC727_PF3.xlsx\n",
      "Reading file LGV CNM - OA Systra_PRA SC728_PF3.xlsx\n",
      "Reading file LGV CNM - OA Systra_PRA SC731_PF2.xlsx\n",
      "Reading file LGV CNM - OA Systra_PRA SC741_PF2.xlsx\n",
      "Reading file LGV CNM - OA Systra_PRA SC758_PF3.xlsx\n",
      "Reading file LGV CNM - OA Systra_PRA SC760_PF1.xlsx\n",
      "Reading file LGV CNM - OA Systra_PRA SC765_PF1.xlsx\n",
      "Reading file LGV CNM - OA Systra_PRA SC767_PF3.xlsx\n",
      "Reading file LGV CNM - OA Systra_PRA SC769_PF3.xlsx\n",
      "Reading file LGV CNM - OA Systra_PRA SC770_PF3.xlsx\n",
      "Reading file LGV CNM - OA Systra_PRA SC784_PF1.xlsx\n",
      "Reading file LGV CNM - OA Systra_PRA SC785_PF5.xlsx\n",
      "Reading file LGV CNM - OA Systra_PRA SC791_PF2.xlsx\n",
      "Reading file LGV CNM - OA Systra_PRA SC815_PF2.xlsx\n",
      "Reading file LGV CNM - OA Systra_PRA SC824_PF7.xlsx\n",
      "Reading file LGV CNM - OA Systra_PRA SC834_PF2.xlsx\n",
      "Reading file LGV CNM - OA Systra_PRA SC836_PF3.xlsx\n",
      "Reading file LGV CNM - OA Systra_PRA SC838_PF1.xlsx\n",
      "Reading file LGV CNM - OA Systra_PRA SC839_PF2.xlsx\n",
      "Reading file LGV CNM - OA Systra_PRA SC840_PF2.xlsx\n",
      "Reading file LGV CNM - OA Systra_PRA SC843_PF7.xlsx\n",
      "Reading file LGV CNM - OA Systra_PRA SC844_PF3.xlsx\n",
      "Reading file LGV CNM - OA Systra_PRA SC847_PF1.xlsx\n",
      "Reading file LGV CNM - OA Systra_PRA SC853_PF1.xlsx\n",
      "Reading file LGV CNM - OA Systra_PRA SC858_PF2.xlsx\n",
      "Reading file LGV CNM - OA Systra_PRA SC859_PF2.xlsx\n",
      "Reading file LGV CNM - OA Systra_PRA SC860_PF2.xlsx\n",
      "Reading file LGV CNM - OA Systra_VIA SC581_PF18.xlsx\n",
      "Reading file LGV CNM - OA_VIA SC563_PF5.xlsx\n",
      "Reading file LGV CNM - OA_VIA SC566_PF5.xlsx\n",
      "Reading file LGV CNM - OA_VIA SC571_PF5.xlsx\n",
      "Reading file LGV CNM - OA_VIA SC576_PF5.xlsx\n",
      "Reading file LGV Tanger-Kenitra_PRA S-267_PF12.xlsx\n",
      "Reading file LGV Tanger-Kenitra_PRA S-615_PF6.xlsx\n",
      "Reading file LGV Tanger-Kenitra_PRA S-621_PF17.xlsx\n",
      "Reading file LGV Tanger-Kenitra_VIA S-600_PF14.xlsx\n",
      "Reading file Pologne - Krasinski_PRA_PF7.xlsx\n",
      "Reading file SEA EST 2946_PF6.xlsx\n",
      "Reading file SEA EST CE0 0017_PF6.xlsx\n",
      "Reading file SEA PRA  0373_PF2.xlsx\n",
      "Reading file SEA PRA 0198_PF1.xlsx\n",
      "Reading file SEA PRA 0341_PF2.xlsx\n",
      "Reading file SEA PRA 0593_PF1.xlsx\n",
      "Reading file SEA PRA 1253_PF2.xlsx\n",
      "Reading file SEA PRA 1290_PF1.xlsx\n",
      "Reading file SEA PRA 1300_PF1.xlsx\n",
      "Reading file SEA PRA 1309_PF1.xlsx\n",
      "Reading file SEA PRA 1367_PF2.xlsx\n",
      "Reading file SEA PRA 1414_PF1.xlsx\n",
      "Reading file SEA PRA 1490_PF3.xlsx\n",
      "Reading file SEA PRA 1536_PF1.xlsx\n",
      "Reading file SEA PRA 1621_PF1.xlsx\n",
      "Reading file SEA PRA 1703_PF2.xlsx\n",
      "Reading file SEA PRA 1709_PF1.xlsx\n",
      "Reading file SEA PRA 1716_PF2.xlsx\n",
      "Reading file SEA PRA 1725_PF2.xlsx\n",
      "Reading file SEA PRA 1759_PF2.xlsx\n",
      "Reading file SEA PRA 1763_PF2.xlsx\n",
      "Reading file SEA PRA 1854_PF2.xlsx\n",
      "Reading file SEA PRA 1889_PF2.xlsx\n",
      "Reading file SEA PRA 1896_PF15.xlsx\n",
      "Reading file SEA PRA 1943_PF2.xlsx\n",
      "Reading file SEA PRA 1992_PF2.xlsx\n",
      "Reading file SEA PRA 2002_PF2.xlsx\n",
      "Reading file SEA PRA 2004_PF2.xlsx\n",
      "Reading file SEA PRA 2005_PF3.xlsx\n",
      "Reading file SEA PRA 2008_PF1.xlsx\n",
      "Reading file SEA PRA 2032_PF2.xlsx\n",
      "Reading file SEA PRA 2034_PF8.xlsx\n",
      "Reading file SEA PRA 2036_PF2.xlsx\n",
      "Reading file SEA PRA 2050_PF2.xlsx\n",
      "Reading file SEA PRA 2056_PF1.xlsx\n",
      "Reading file SEA PRA 2061_PF1.xlsx\n",
      "Reading file SEA PRA 2099_PF2.xlsx\n",
      "Reading file SEA PRA 2102_PF7.xlsx\n",
      "Reading file SEA PRA 2106_PF1.xlsx\n",
      "Reading file SEA PRA 2123_PF1.xlsx\n",
      "Reading file SEA PRA 2194_PF2.xlsx\n",
      "Reading file SEA PRA 2196_PF8.xlsx\n",
      "Reading file SEA PRA 2200_PF2.xlsx\n",
      "Reading file SEA PRA 2228_PF2.xlsx\n",
      "Reading file SEA PRA 2235_PF3.xlsx\n",
      "Reading file SEA PRA 2237_PF2.xlsx\n",
      "Reading file SEA PRA 2297_PF8.xlsx\n",
      "Reading file SEA PRA 2308_PF2.xlsx\n",
      "Reading file SEA PRA 2317_PF2.xlsx\n",
      "Reading file SEA PRA 2334_PF2.xlsx\n",
      "Reading file SEA PRA 2357_PF2.xlsx\n",
      "Reading file SEA PRA 2378_PF2.xlsx\n",
      "Reading file SEA PRA 2382_PF2.xlsx\n",
      "Reading file SEA PRA 2390_PF2.xlsx\n",
      "Reading file SEA PRA 2413_PF2.xlsx\n",
      "Reading file SEA PRA 2418_PF3.xlsx\n",
      "Reading file SEA PRA 2426_PF2.xlsx\n",
      "Reading file SEA PRA 2454_PF2.xlsx\n",
      "Reading file SEA PRA 2477_PF2.xlsx\n",
      "Reading file SEA PRA 2483_PF2.xlsx\n",
      "Reading file SEA PRA 3310_PF5.xlsx\n",
      "Reading file SEA PRA CE0 0022_PF1.xlsx\n",
      "Reading file SEA PRA CE1 0011_PF2.xlsx\n",
      "Reading file SEA PRA CE1 0036_PF2.xlsx\n",
      "Reading file SEA PRA CE1 0039_PF1.xlsx\n",
      "Reading file SEA PRA CE2 0008_PF2.xlsx\n",
      "Reading file SEA VIA 0079_PF15.xlsx\n",
      "Reading file SEA VIA 0305_PF8.xlsx\n",
      "Reading file SEA VIA 0418_PF15.xlsx\n",
      "Reading file SEA VIA 0418_PF8.xlsx\n",
      "Reading file SEA VIA 0886_PF15.xlsx\n",
      "Reading file SEA VIA 0970_PF8.xlsx\n",
      "Reading file SEA VIA 1158_PF8.xlsx\n",
      "Reading file SEA VIA 1768_PF15.xlsx\n",
      "Reading file SEA VIA 2053_PF8.xlsx\n",
      "Reading file SEA VIA 2077_PF15.xlsx\n",
      "Reading file SEA VIA 2150_PF15.xlsx\n",
      "Reading file SEA VIA 2251_PF8.xlsx\n",
      "Reading file SEA VIA 2449_PF8.xlsx\n",
      "Reading file SEA VIA 2458_PF8.xlsx\n",
      "Reading file SEA VIA 2507_PF8.xlsx\n",
      "Reading file SEA VIA 2559_PF8.xlsx\n",
      "Reading file SEA VIA 2598_PF8.xlsx\n",
      "Reading file SEA VIA 2624_PF8.xlsx\n",
      "Reading file SEA VIA 2796_PF8.xlsx\n",
      "Reading file SEA VIA 2963_PF10.xlsx\n",
      "Reading file SEA VIA 2969_PF14.xlsx\n",
      "Reading file SEA VIA 2973_PF10.xlsx\n",
      "Reading file SEA VIA-MA1 0035_PF15.xlsx\n",
      "Reading file SJM_ARVAN PRA_PF17.xlsx\n",
      "Number of files loaded: 318\n"
     ]
    }
   ],
   "source": [
    "bridge_list = bd.get_bridges()\n",
    "num_bridges = bd.len()\n"
   ]
  },
  {
   "cell_type": "markdown",
   "metadata": {},
   "source": []
  },
  {
   "cell_type": "code",
   "execution_count": 7,
   "metadata": {},
   "outputs": [
    {
     "name": "stdout",
     "output_type": "stream",
     "text": [
      "dict_keys(['filename', 'type', 'length', 'height_prof', 'travelage', 'obstacle_start', 'obstacle_end'])\n",
      "{'filename': 'Alge_Khemis El Afroun_PRA PB69142 SV_PF6.xlsx', 'type': 'PF6', 'length': 36.0003, 'height_prof': [6.79619, 6.8818, 6.96741, 7.04412, 7.11626, 7.19228, 7.25934, 7.31744, 7.37041, 7.42338, 7.5648, 7.9046, 8.24423, 8.59451, 8.94569, 9.29812, 9.40976, 9.24105, 9.06734, 8.8922, 8.75765, 8.63782, 8.74459, 9.0863, 9.20993, 8.6663, 8.2538, 7.88357, 7.51335, 7.14313, 6.97595, 6.8698, 6.83674, 6.79783, 6.76151, 6.72758, 6.60866], 'travelage': [36.0003], 'obstacle_start': [2.22222], 'obstacle_end': [34.2219]}\n"
     ]
    },
    {
     "data": {
      "text/html": [
       "<div>\n",
       "<style scoped>\n",
       "    .dataframe tbody tr th:only-of-type {\n",
       "        vertical-align: middle;\n",
       "    }\n",
       "\n",
       "    .dataframe tbody tr th {\n",
       "        vertical-align: top;\n",
       "    }\n",
       "\n",
       "    .dataframe thead th {\n",
       "        text-align: right;\n",
       "    }\n",
       "</style>\n",
       "<table border=\"1\" class=\"dataframe\">\n",
       "  <thead>\n",
       "    <tr style=\"text-align: right;\">\n",
       "      <th></th>\n",
       "      <th>length</th>\n",
       "    </tr>\n",
       "  </thead>\n",
       "  <tbody>\n",
       "    <tr>\n",
       "      <th>count</th>\n",
       "      <td>318.000000</td>\n",
       "    </tr>\n",
       "    <tr>\n",
       "      <th>mean</th>\n",
       "      <td>99.496069</td>\n",
       "    </tr>\n",
       "    <tr>\n",
       "      <th>std</th>\n",
       "      <td>183.282385</td>\n",
       "    </tr>\n",
       "    <tr>\n",
       "      <th>min</th>\n",
       "      <td>1.538330</td>\n",
       "    </tr>\n",
       "    <tr>\n",
       "      <th>25%</th>\n",
       "      <td>9.141810</td>\n",
       "    </tr>\n",
       "    <tr>\n",
       "      <th>50%</th>\n",
       "      <td>32.300000</td>\n",
       "    </tr>\n",
       "    <tr>\n",
       "      <th>75%</th>\n",
       "      <td>113.665000</td>\n",
       "    </tr>\n",
       "    <tr>\n",
       "      <th>max</th>\n",
       "      <td>1945.770000</td>\n",
       "    </tr>\n",
       "  </tbody>\n",
       "</table>\n",
       "</div>"
      ],
      "text/plain": [
       "            length\n",
       "count   318.000000\n",
       "mean     99.496069\n",
       "std     183.282385\n",
       "min       1.538330\n",
       "25%       9.141810\n",
       "50%      32.300000\n",
       "75%     113.665000\n",
       "max    1945.770000"
      ]
     },
     "execution_count": 7,
     "metadata": {},
     "output_type": "execute_result"
    }
   ],
   "source": [
    "print(bridge_list[0].keys())\n",
    "print(bridge_list[0])\n",
    "df=pd.DataFrame(bridge_list)\n",
    "df.describe()"
   ]
  },
  {
   "cell_type": "code",
   "execution_count": 8,
   "metadata": {},
   "outputs": [],
   "source": [
    "plt.style.use('seaborn')"
   ]
  },
  {
   "cell_type": "code",
   "execution_count": 9,
   "metadata": {},
   "outputs": [
    {
     "name": "stdout",
     "output_type": "stream",
     "text": [
      "0                                              [36.0003]\n",
      "1                                                   [26]\n",
      "2                      [36.909, 74.725, 112.541, 149.45]\n",
      "3                                                [53.73]\n",
      "4                                                   [36]\n",
      "                             ...                        \n",
      "313                    [40, 95, 150, 205, 260, 300, 342]\n",
      "314    [40, 95, 150, 205, 260, 300, 342, 405.6, 492.0...\n",
      "315                                   [42, 82, 137, 177]\n",
      "316    [37, 81.2, 128.2, 175.2, 222.2, 269.2, 316.2, ...\n",
      "317                                            [52.9906]\n",
      "Name: travelage, Length: 318, dtype: object\n"
     ]
    }
   ],
   "source": [
    "trav=df['travelage']\n",
    "print(trav)"
   ]
  },
  {
   "cell_type": "code",
   "execution_count": 10,
   "metadata": {},
   "outputs": [
    {
     "data": {
      "image/png": "[encoded data removed]",
      "text/plain": [
       "<Figure size 576x396 with 1 Axes>"
      ]
     },
     "metadata": {},
     "output_type": "display_data"
    }
   ],
   "source": [
    "plt.hist(df[\"length\"], bins=20)\n",
    "plt.xlabel('travelage de pont')\n",
    "plt.ylabel('count');"
   ]
  },
  {
   "cell_type": "code",
   "execution_count": 11,
   "metadata": {},
   "outputs": [
    {
     "name": "stdout",
     "output_type": "stream",
     "text": [
      "---\n",
      "Bridge #2\n",
      "Bridge length = 149.45 m\n",
      "Number of points in height profile = 150\n"
     ]
    },
    {
     "data": {
      "image/png": "[encoded data removed]",
      "text/plain": [
       "<Figure size 576x396 with 1 Axes>"
      ]
     },
     "metadata": {},
     "output_type": "display_data"
    }
   ],
   "source": [
    "print('---')\n",
    "ind = 2\n",
    "print('Bridge #{0}'.format(ind))\n",
    "bridge = bridge_list[ind]\n",
    "length = bridge['length']\n",
    "z = np.array(bridge['height_prof'])\n",
    "n = z.shape[0]\n",
    "x = np.linspace(0, length, n)\n",
    "t = np.array(bridge['travelage'])\n",
    "\n",
    "print('Bridge length = {0} m'.format(length))\n",
    "print('Number of points in height profile = {0}'.format(n))\n",
    "\n",
    "plt.plot(x, -z)\n",
    "plt.xlabel('x')\n",
    "plt.ylabel('height')\n",
    "bottom, top = plt.ylim()\n",
    "for i in range(t.shape[0]):\n",
    "    plt.plot([t[i], t[i]], [bottom, top], 'm')\n",
    "\n",
    "plt.show()\n",
    "\n",
    "\n",
    "######################################\n",
    "#\n",
    "\n",
    "#\n",
    "######################################\n",
    "\n"
   ]
  },
  {
   "cell_type": "markdown",
   "metadata": {},
   "source": [
    "# Retrieve the list of lengths"
   ]
  },
  {
   "cell_type": "code",
   "execution_count": 12,
   "metadata": {},
   "outputs": [
    {
     "data": {
      "image/png": "[encoded data removed]",
      "text/plain": [
       "<Figure size 576x396 with 1 Axes>"
      ]
     },
     "metadata": {},
     "output_type": "display_data"
    }
   ],
   "source": [
    "b_lengths = []\n",
    "for i in range(num_bridges):\n",
    "    b_lengths.append(bridge_list[i]['length'])\n",
    "\n",
    "# Histogram of the lengths\n",
    "\n",
    "num_bins = 30\n",
    "fig, ax = plt.subplots()\n",
    "n, bins, patches = ax.hist(b_lengths, num_bins)\n",
    "plt.title('histogram of lengths')\n",
    "plt.xlabel('length')\n",
    "plt.ylabel('frequency')\n",
    "fig.tight_layout()\n",
    "plt.show()"
   ]
  },
  {
   "cell_type": "markdown",
   "metadata": {},
   "source": [
    "# Number of bridges of each type"
   ]
  },
  {
   "cell_type": "code",
   "execution_count": 13,
   "metadata": {},
   "outputs": [
    {
     "data": {
      "image/png": "[encoded data removed]",
      "text/plain": [
       "<Figure size 576x396 with 1 Axes>"
      ]
     },
     "metadata": {},
     "output_type": "display_data"
    }
   ],
   "source": [
    "types_stats = {}\n",
    "for i in range(num_bridges):\n",
    "    type = bridge_list[i]['type']\n",
    "    if type in types_stats:\n",
    "        types_stats[type] += 1\n",
    "    else:\n",
    "        types_stats[type] = 1\n",
    "\n",
    "\n",
    "types_stats_sorted = {k: v for k, v in sorted(types_stats.items(),\n",
    "                                              key=lambda item: item[1],\n",
    "                                              reverse=True)}\n",
    "\n",
    "plt.bar(range(len(types_stats)), types_stats_sorted.values())\n",
    "plt.xticks(range(len(types_stats)), types_stats_sorted.keys())\n",
    "plt.show()"
   ]
  },
  {
   "cell_type": "markdown",
   "metadata": {},
   "source": [
    "# Convert types to integers values and retrieve some stats in an np ndarray"
   ]
  },
  {
   "cell_type": "code",
   "execution_count": 14,
   "metadata": {},
   "outputs": [
    {
     "data": {
      "image/png": "[encoded data removed]",
      "text/plain": [
       "<Figure size 576x396 with 1 Axes>"
      ]
     },
     "metadata": {},
     "output_type": "display_data"
    },
    {
     "name": "stdout",
     "output_type": "stream",
     "text": [
      "[[  6.       36.0003    6.60866   9.40976   1.     ]\n",
      " [  6.       26.        7.88186   9.85958   1.     ]\n",
      " [  6.      149.45      8.72451  10.3377    4.     ]\n",
      " ...\n",
      " [ 10.      177.        3.13795  13.4034    4.     ]\n",
      " [ 15.      447.2       3.882    28.738    10.     ]\n",
      " [ 17.       52.9906    5.56468   7.01801   1.     ]]\n",
      "[ 1.  1.  4.  1.  1.  1.  9.  1.  2.  1.  1.  1.  1.  1.  1.  1.  1.  1.\n",
      "  1.  1.  1.  1.  3.  5.  3.  1.  1.  1.  1.  1.  1.  1.  1.  1.  1.  1.\n",
      "  1.  2.  1.  1.  1.  1.  1.  1.  1.  5.  3.  8.  3.  9.  7.  9.  1.  1.\n",
      "  1.  2.  2.  1.  2.  1.  1.  1.  1.  5.  5.  4.  8.  1.  3.  2.  2.  1.\n",
      "  2.  1.  1. 14.  7.  5.  1.  2.  3.  1.  2.  1.  1.  1.  4.  2.  3.  2.\n",
      "  3.  8.  1.  1.  5.  1.  4.  2.  7.  5.  5.  6.  5.  2.  1.  3.  2.  1.\n",
      "  2.  4.  2.  2.  4.  1.  2.  2. 11.  6.  5. 12. 15.  6.  3.  3.  8.  4.\n",
      "  8.  4.  8.  5.  5. 13. 31.  1. 17. 49.  1.  4.  4.  1.  1.  2.  1.  1.\n",
      "  1.  1.  1.  3.  1.  3.  1.  4.  1.  6.  1.  4.  2.  1.  1.  6.  6.  9.\n",
      " 12.  5.  2.  2.  4.  3.  3.  1.  1.  1.  5.  1.  1.  1.  4.  1.  1.  5.\n",
      "  4.  1.  1.  5.  4.  1.  1.  1.  1.  3.  1.  3.  5.  1.  1.  3.  1.  1.\n",
      "  4.  3.  3.  1.  3.  1.  1.  3.  1.  3.  1.  1.  1.  3.  3.  1.  1.  1.\n",
      "  1.  1.  1.  6.  6.  9. 12.  3.  3.  1.  7. 20. 15. 32.  1.  1.  1.  1.\n",
      "  1.  1.  1.  1.  1.  1.  3.  1.  1.  1.  1.  1.  1.  1.  1.  1.  1. 12.\n",
      "  1.  1.  1.  1.  4.  1.  1.  3.  1.  1.  1.  1.  1.  6.  1.  1.  1.  3.\n",
      "  1.  1.  3.  1.  3.  1.  1.  1.  1.  1.  1.  1.  1.  3.  1.  1.  1.  1.\n",
      "  3.  1.  1.  1.  1.  1. 11.  3.  6.  6. 10.  3.  4. 11. 10. 10. 10.  3.\n",
      "  5.  5.  4.  3.  6.  3.  4.  7. 20.  4. 10.  1.]\n"
     ]
    }
   ],
   "source": [
    "X = np.ndarray([num_bridges, 5])\n",
    "for i in range(num_bridges):\n",
    "    type = bridge_list[i]['type']\n",
    "    X[i, 0] = int(type[2:])\n",
    "    X[i, 1] = bridge_list[i]['length']\n",
    "    X[i, 2] = np.min(np.array(bridge_list[i]['height_prof']))\n",
    "    X[i, 3] = np.max(np.array(bridge_list[i]['height_prof']))\n",
    "    X[i, 4] = len(bridge_list[i]['travelage'])\n",
    "    \n",
    "plt.plot(X[:, 1], X[:, 2], '.')\n",
    "plt.xlabel('length')\n",
    "plt.ylabel('min height')\n",
    "dff=pd.DataFrame(X,columns=['type','length','min_height','max_height','travelage'])\n",
    "\n",
    "indices = np.where(X[:, 0] == 1)\n",
    "plt.plot(X[indices[0], 1], X[indices[0], 2], '.', color='r')\n",
    "\n",
    "plt.show()\n",
    "print(X)\n",
    "print(X[:,4])"
   ]
  },
  {
   "cell_type": "markdown",
   "metadata": {},
   "source": [
    "# correlation longueur - travelage\n"
   ]
  },
  {
   "cell_type": "code",
   "execution_count": 15,
   "metadata": {},
   "outputs": [
    {
     "data": {
      "image/png": "[encoded data removed]",
      "text/plain": [
       "<Figure size 576x396 with 1 Axes>"
      ]
     },
     "metadata": {},
     "output_type": "display_data"
    }
   ],
   "source": [
    "plt.plot(X[:, 1], X[:, 4], '.')\n",
    "plt.xlabel('length')\n",
    "plt.ylabel('travelage')\n",
    "plt.show()\n"
   ]
  },
  {
   "cell_type": "code",
   "execution_count": 16,
   "metadata": {},
   "outputs": [
    {
     "data": {
      "image/png": "[encoded data removed]",
      "text/plain": [
       "<Figure size 720x432 with 1 Axes>"
      ]
     },
     "metadata": {},
     "output_type": "display_data"
    }
   ],
   "source": [
    "plt.figure(figsize=(10,6))\n",
    "plt.scatter(X[:, 1], X[:, 4])\n",
    "plt.xlabel(\"X: length\")\n",
    "plt.ylabel(\"Y: ltravelage\")\n",
    "plt.grid()"
   ]
  },
  {
   "cell_type": "code",
   "execution_count": 17,
   "metadata": {},
   "outputs": [
    {
     "data": {
      "text/html": [
       "<table class=\"simpletable\">\n",
       "<caption>OLS Regression Results</caption>\n",
       "<tr>\n",
       "  <th>Dep. Variable:</th>        <td>travelage</td>    <th>  R-squared:         </th> <td>   0.796</td> \n",
       "</tr>\n",
       "<tr>\n",
       "  <th>Model:</th>                   <td>OLS</td>       <th>  Adj. R-squared:    </th> <td>   0.796</td> \n",
       "</tr>\n",
       "<tr>\n",
       "  <th>Method:</th>             <td>Least Squares</td>  <th>  F-statistic:       </th> <td>   1236.</td> \n",
       "</tr>\n",
       "<tr>\n",
       "  <th>Date:</th>             <td>Fri, 10 Jun 2022</td> <th>  Prob (F-statistic):</th> <td>3.10e-111</td>\n",
       "</tr>\n",
       "<tr>\n",
       "  <th>Time:</th>                 <td>10:23:48</td>     <th>  Log-Likelihood:    </th> <td> -690.63</td> \n",
       "</tr>\n",
       "<tr>\n",
       "  <th>No. Observations:</th>      <td>   318</td>      <th>  AIC:               </th> <td>   1385.</td> \n",
       "</tr>\n",
       "<tr>\n",
       "  <th>Df Residuals:</th>          <td>   316</td>      <th>  BIC:               </th> <td>   1393.</td> \n",
       "</tr>\n",
       "<tr>\n",
       "  <th>Df Model:</th>              <td>     1</td>      <th>                     </th>     <td> </td>    \n",
       "</tr>\n",
       "<tr>\n",
       "  <th>Covariance Type:</th>      <td>nonrobust</td>    <th>                     </th>     <td> </td>    \n",
       "</tr>\n",
       "</table>\n",
       "<table class=\"simpletable\">\n",
       "<tr>\n",
       "     <td></td>       <th>coef</th>     <th>std err</th>      <th>t</th>      <th>P>|t|</th>  <th>[0.025</th>    <th>0.975]</th>  \n",
       "</tr>\n",
       "<tr>\n",
       "  <th>const</th>  <td>    1.0787</td> <td>    0.136</td> <td>    7.935</td> <td> 0.000</td> <td>    0.811</td> <td>    1.346</td>\n",
       "</tr>\n",
       "<tr>\n",
       "  <th>length</th> <td>    0.0229</td> <td>    0.001</td> <td>   35.157</td> <td> 0.000</td> <td>    0.022</td> <td>    0.024</td>\n",
       "</tr>\n",
       "</table>\n",
       "<table class=\"simpletable\">\n",
       "<tr>\n",
       "  <th>Omnibus:</th>       <td>207.465</td> <th>  Durbin-Watson:     </th> <td>   1.743</td> \n",
       "</tr>\n",
       "<tr>\n",
       "  <th>Prob(Omnibus):</th> <td> 0.000</td>  <th>  Jarque-Bera (JB):  </th> <td>11393.819</td>\n",
       "</tr>\n",
       "<tr>\n",
       "  <th>Skew:</th>          <td> 1.941</td>  <th>  Prob(JB):          </th> <td>    0.00</td> \n",
       "</tr>\n",
       "<tr>\n",
       "  <th>Kurtosis:</th>      <td>32.066</td>  <th>  Cond. No.          </th> <td>    237.</td> \n",
       "</tr>\n",
       "</table><br/><br/>Notes:<br/>[1] Standard Errors assume that the covariance matrix of the errors is correctly specified."
      ],
      "text/plain": [
       "<class 'statsmodels.iolib.summary.Summary'>\n",
       "\"\"\"\n",
       "                            OLS Regression Results                            \n",
       "==============================================================================\n",
       "Dep. Variable:              travelage   R-squared:                       0.796\n",
       "Model:                            OLS   Adj. R-squared:                  0.796\n",
       "Method:                 Least Squares   F-statistic:                     1236.\n",
       "Date:                Fri, 10 Jun 2022   Prob (F-statistic):          3.10e-111\n",
       "Time:                        10:23:48   Log-Likelihood:                -690.63\n",
       "No. Observations:                 318   AIC:                             1385.\n",
       "Df Residuals:                     316   BIC:                             1393.\n",
       "Df Model:                           1                                         \n",
       "Covariance Type:            nonrobust                                         \n",
       "==============================================================================\n",
       "                 coef    std err          t      P>|t|      [0.025      0.975]\n",
       "------------------------------------------------------------------------------\n",
       "const          1.0787      0.136      7.935      0.000       0.811       1.346\n",
       "length         0.0229      0.001     35.157      0.000       0.022       0.024\n",
       "==============================================================================\n",
       "Omnibus:                      207.465   Durbin-Watson:                   1.743\n",
       "Prob(Omnibus):                  0.000   Jarque-Bera (JB):            11393.819\n",
       "Skew:                           1.941   Prob(JB):                         0.00\n",
       "Kurtosis:                      32.066   Cond. No.                         237.\n",
       "==============================================================================\n",
       "\n",
       "Notes:\n",
       "[1] Standard Errors assume that the covariance matrix of the errors is correctly specified.\n",
       "\"\"\""
      ]
     },
     "execution_count": 17,
     "metadata": {},
     "output_type": "execute_result"
    }
   ],
   "source": [
    "Xi = dff['length']\n",
    "Xi = sm.add_constant(Xi)  # add the intercept term => necessary with statsmodels regression\n",
    "y = dff['travelage']\n",
    "ols = sm.OLS(y, Xi).fit()\n",
    "\n",
    "ols.summary()\n"
   ]
  },
  {
   "cell_type": "code",
   "execution_count": 18,
   "metadata": {},
   "outputs": [
    {
     "data": {
      "text/plain": [
       "Text(0.5, 1.0, 'R^2 = 0.80')"
      ]
     },
     "execution_count": 18,
     "metadata": {},
     "output_type": "execute_result"
    },
    {
     "data": {
      "image/png": "[encoded data removed]",
      "text/plain": [
       "<Figure size 576x396 with 1 Axes>"
      ]
     },
     "metadata": {},
     "output_type": "display_data"
    }
   ],
   "source": [
    "fig = dff.plot(x=\"length\", y=\"travelage\", style=\"o\")\n",
    "fig.set_ylabel(\"travelagee\")\n",
    "ypred = ols.predict(Xi)\n",
    "fig.plot(dff['length'], ypred, 'r', linewidth=1)\n",
    "fig.set_title('R^2 = {:.2f}'.format(ols.rsquared))"
   ]
  },
  {
   "cell_type": "markdown",
   "metadata": {},
   "source": [
    "La valeur du $R^2$ est plutôt élevée  ($R^2 = 0.80$) ce qui confirme une bonne relation linéaire entre travelage et length."
   ]
  },
  {
   "cell_type": "code",
   "execution_count": 19,
   "metadata": {},
   "outputs": [
    {
     "name": "stdout",
     "output_type": "stream",
     "text": [
      "0      -0.904750\n",
      "1      -0.675297\n",
      "2      -0.507809\n",
      "3      -1.311551\n",
      "4      -0.904743\n",
      "         ...    \n",
      "313    -1.925793\n",
      "314   -11.342676\n",
      "315    -1.139933\n",
      "316    -1.339566\n",
      "317    -1.294585\n",
      "Length: 318, dtype: float64\n"
     ]
    },
    {
     "ename": "AttributeError",
     "evalue": "'str' object has no attribute 'name'",
     "output_type": "error",
     "traceback": [
      "\u001b[1;31m---------------------------------------------------------------------------\u001b[0m",
      "\u001b[1;31mAttributeError\u001b[0m                            Traceback (most recent call last)",
      "\u001b[1;32mc:\\Users\\Marouane\\AppData\\Local\\Programs\\Python\\Python39\\lib\\site-packages\\statsmodels\\graphics\\gofplots.py\u001b[0m in \u001b[0;36mtheoretical_quantiles\u001b[1;34m(self)\u001b[0m\n\u001b[0;32m    260\u001b[0m         \u001b[1;32mtry\u001b[0m\u001b[1;33m:\u001b[0m\u001b[1;33m\u001b[0m\u001b[1;33m\u001b[0m\u001b[0m\n\u001b[1;32m--> 261\u001b[1;33m             \u001b[1;32mreturn\u001b[0m \u001b[0mself\u001b[0m\u001b[1;33m.\u001b[0m\u001b[0mdist\u001b[0m\u001b[1;33m.\u001b[0m\u001b[0mppf\u001b[0m\u001b[1;33m(\u001b[0m\u001b[0mself\u001b[0m\u001b[1;33m.\u001b[0m\u001b[0mtheoretical_percentiles\u001b[0m\u001b[1;33m)\u001b[0m\u001b[1;33m\u001b[0m\u001b[1;33m\u001b[0m\u001b[0m\n\u001b[0m\u001b[0;32m    262\u001b[0m         \u001b[1;32mexcept\u001b[0m \u001b[0mTypeError\u001b[0m\u001b[1;33m:\u001b[0m\u001b[1;33m\u001b[0m\u001b[1;33m\u001b[0m\u001b[0m\n",
      "\u001b[1;31mAttributeError\u001b[0m: 'str' object has no attribute 'ppf'",
      "\nDuring handling of the above exception, another exception occurred:\n",
      "\u001b[1;31mAttributeError\u001b[0m                            Traceback (most recent call last)",
      "\u001b[1;32m~\\AppData\\Local\\Temp/ipykernel_10904/1484261668.py\u001b[0m in \u001b[0;36m<module>\u001b[1;34m\u001b[0m\n\u001b[0;32m      1\u001b[0m \u001b[0mresiduals\u001b[0m \u001b[1;33m=\u001b[0m \u001b[0my\u001b[0m \u001b[1;33m-\u001b[0m \u001b[0mypred\u001b[0m\u001b[1;33m\u001b[0m\u001b[1;33m\u001b[0m\u001b[0m\n\u001b[0;32m      2\u001b[0m \u001b[0mprint\u001b[0m\u001b[1;33m(\u001b[0m\u001b[0mresiduals\u001b[0m\u001b[1;33m)\u001b[0m\u001b[1;33m\u001b[0m\u001b[1;33m\u001b[0m\u001b[0m\n\u001b[1;32m----> 3\u001b[1;33m \u001b[0mfig\u001b[0m \u001b[1;33m=\u001b[0m \u001b[0msm\u001b[0m\u001b[1;33m.\u001b[0m\u001b[0mqqplot\u001b[0m\u001b[1;33m(\u001b[0m\u001b[0mresiduals\u001b[0m\u001b[1;33m,\u001b[0m \u001b[0mdist\u001b[0m\u001b[1;33m=\u001b[0m\u001b[1;34m\"norm\"\u001b[0m\u001b[1;33m,\u001b[0m \u001b[0mline\u001b[0m\u001b[1;33m=\u001b[0m\u001b[1;34m\"r\"\u001b[0m\u001b[1;33m)\u001b[0m\u001b[1;33m\u001b[0m\u001b[1;33m\u001b[0m\u001b[0m\n\u001b[0m",
      "\u001b[1;32mc:\\Users\\Marouane\\AppData\\Local\\Programs\\Python\\Python39\\lib\\site-packages\\statsmodels\\graphics\\gofplots.py\u001b[0m in \u001b[0;36mqqplot\u001b[1;34m(data, dist, distargs, a, loc, scale, fit, line, ax, **plotkwargs)\u001b[0m\n\u001b[0;32m    689\u001b[0m         \u001b[0mdata\u001b[0m\u001b[1;33m,\u001b[0m \u001b[0mdist\u001b[0m\u001b[1;33m=\u001b[0m\u001b[0mdist\u001b[0m\u001b[1;33m,\u001b[0m \u001b[0mdistargs\u001b[0m\u001b[1;33m=\u001b[0m\u001b[0mdistargs\u001b[0m\u001b[1;33m,\u001b[0m \u001b[0mfit\u001b[0m\u001b[1;33m=\u001b[0m\u001b[0mfit\u001b[0m\u001b[1;33m,\u001b[0m \u001b[0ma\u001b[0m\u001b[1;33m=\u001b[0m\u001b[0ma\u001b[0m\u001b[1;33m,\u001b[0m \u001b[0mloc\u001b[0m\u001b[1;33m=\u001b[0m\u001b[0mloc\u001b[0m\u001b[1;33m,\u001b[0m \u001b[0mscale\u001b[0m\u001b[1;33m=\u001b[0m\u001b[0mscale\u001b[0m\u001b[1;33m\u001b[0m\u001b[1;33m\u001b[0m\u001b[0m\n\u001b[0;32m    690\u001b[0m     )\n\u001b[1;32m--> 691\u001b[1;33m     \u001b[0mfig\u001b[0m \u001b[1;33m=\u001b[0m \u001b[0mprobplot\u001b[0m\u001b[1;33m.\u001b[0m\u001b[0mqqplot\u001b[0m\u001b[1;33m(\u001b[0m\u001b[0max\u001b[0m\u001b[1;33m=\u001b[0m\u001b[0max\u001b[0m\u001b[1;33m,\u001b[0m \u001b[0mline\u001b[0m\u001b[1;33m=\u001b[0m\u001b[0mline\u001b[0m\u001b[1;33m,\u001b[0m \u001b[1;33m**\u001b[0m\u001b[0mplotkwargs\u001b[0m\u001b[1;33m)\u001b[0m\u001b[1;33m\u001b[0m\u001b[1;33m\u001b[0m\u001b[0m\n\u001b[0m\u001b[0;32m    692\u001b[0m     \u001b[1;32mreturn\u001b[0m \u001b[0mfig\u001b[0m\u001b[1;33m\u001b[0m\u001b[1;33m\u001b[0m\u001b[0m\n\u001b[0;32m    693\u001b[0m \u001b[1;33m\u001b[0m\u001b[0m\n",
      "\u001b[1;32mc:\\Users\\Marouane\\AppData\\Local\\Programs\\Python\\Python39\\lib\\site-packages\\statsmodels\\graphics\\gofplots.py\u001b[0m in \u001b[0;36mqqplot\u001b[1;34m(self, xlabel, ylabel, line, other, ax, swap, **plotkwargs)\u001b[0m\n\u001b[0;32m    476\u001b[0m         \u001b[1;32melse\u001b[0m\u001b[1;33m:\u001b[0m\u001b[1;33m\u001b[0m\u001b[1;33m\u001b[0m\u001b[0m\n\u001b[0;32m    477\u001b[0m             fig, ax = _do_plot(\n\u001b[1;32m--> 478\u001b[1;33m                 \u001b[0mself\u001b[0m\u001b[1;33m.\u001b[0m\u001b[0mtheoretical_quantiles\u001b[0m\u001b[1;33m,\u001b[0m\u001b[1;33m\u001b[0m\u001b[1;33m\u001b[0m\u001b[0m\n\u001b[0m\u001b[0;32m    479\u001b[0m                 \u001b[0mself\u001b[0m\u001b[1;33m.\u001b[0m\u001b[0msample_quantiles\u001b[0m\u001b[1;33m,\u001b[0m\u001b[1;33m\u001b[0m\u001b[1;33m\u001b[0m\u001b[0m\n\u001b[0;32m    480\u001b[0m                 \u001b[0mself\u001b[0m\u001b[1;33m.\u001b[0m\u001b[0mdist\u001b[0m\u001b[1;33m,\u001b[0m\u001b[1;33m\u001b[0m\u001b[1;33m\u001b[0m\u001b[0m\n",
      "\u001b[1;32mc:\\Users\\Marouane\\AppData\\Local\\Programs\\Python\\Python39\\lib\\site-packages\\pandas\\_libs\\properties.pyx\u001b[0m in \u001b[0;36mpandas._libs.properties.CachedProperty.__get__\u001b[1;34m()\u001b[0m\n",
      "\u001b[1;32mc:\\Users\\Marouane\\AppData\\Local\\Programs\\Python\\Python39\\lib\\site-packages\\statsmodels\\graphics\\gofplots.py\u001b[0m in \u001b[0;36mtheoretical_quantiles\u001b[1;34m(self)\u001b[0m\n\u001b[0;32m    266\u001b[0m             \u001b[1;32mraise\u001b[0m \u001b[0mTypeError\u001b[0m\u001b[1;33m(\u001b[0m\u001b[0mmsg\u001b[0m\u001b[1;33m)\u001b[0m\u001b[1;33m\u001b[0m\u001b[1;33m\u001b[0m\u001b[0m\n\u001b[0;32m    267\u001b[0m         \u001b[1;32mexcept\u001b[0m \u001b[0mException\u001b[0m \u001b[1;32mas\u001b[0m \u001b[0mexc\u001b[0m\u001b[1;33m:\u001b[0m\u001b[1;33m\u001b[0m\u001b[1;33m\u001b[0m\u001b[0m\n\u001b[1;32m--> 268\u001b[1;33m             \u001b[0mmsg\u001b[0m \u001b[1;33m=\u001b[0m \u001b[1;34m\"failed to compute the ppf of {0}\"\u001b[0m\u001b[1;33m.\u001b[0m\u001b[0mformat\u001b[0m\u001b[1;33m(\u001b[0m\u001b[0mself\u001b[0m\u001b[1;33m.\u001b[0m\u001b[0mdist\u001b[0m\u001b[1;33m.\u001b[0m\u001b[0mname\u001b[0m\u001b[1;33m)\u001b[0m\u001b[1;33m\u001b[0m\u001b[1;33m\u001b[0m\u001b[0m\n\u001b[0m\u001b[0;32m    269\u001b[0m             \u001b[1;32mraise\u001b[0m \u001b[0mtype\u001b[0m\u001b[1;33m(\u001b[0m\u001b[0mexc\u001b[0m\u001b[1;33m)\u001b[0m\u001b[1;33m(\u001b[0m\u001b[0mmsg\u001b[0m\u001b[1;33m)\u001b[0m\u001b[1;33m\u001b[0m\u001b[1;33m\u001b[0m\u001b[0m\n\u001b[0;32m    270\u001b[0m \u001b[1;33m\u001b[0m\u001b[0m\n",
      "\u001b[1;31mAttributeError\u001b[0m: 'str' object has no attribute 'name'"
     ]
    }
   ],
   "source": [
    "residuals = y - ypred\n",
    "print(residuals)\n",
    "fig = sm.qqplot(residuals, dist=\"norm\", line=\"r\")"
   ]
  },
  {
   "cell_type": "code",
   "execution_count": null,
   "metadata": {},
   "outputs": [],
   "source": []
  },
  {
   "cell_type": "code",
   "execution_count": 20,
   "metadata": {},
   "outputs": [
    {
     "data": {
      "text/html": [
       "<style type='text/css'>\n",
       ".datatable table.frame { margin-bottom: 0; }\n",
       ".datatable table.frame thead { border-bottom: none; }\n",
       ".datatable table.frame tr.coltypes td {  color: #FFFFFF;  line-height: 6px;  padding: 0 0.5em;}\n",
       ".datatable .bool    { background: #DDDD99; }\n",
       ".datatable .object  { background: #565656; }\n",
       ".datatable .int     { background: #5D9E5D; }\n",
       ".datatable .float   { background: #4040CC; }\n",
       ".datatable .str     { background: #CC4040; }\n",
       ".datatable .time    { background: #40CC40; }\n",
       ".datatable .row_index {  background: var(--jp-border-color3);  border-right: 1px solid var(--jp-border-color0);  color: var(--jp-ui-font-color3);  font-size: 9px;}\n",
       ".datatable .frame tbody td { text-align: left; }\n",
       ".datatable .frame tr.coltypes .row_index {  background: var(--jp-border-color0);}\n",
       ".datatable th:nth-child(2) { padding-left: 12px; }\n",
       ".datatable .hellipsis {  color: var(--jp-cell-editor-border-color);}\n",
       ".datatable .vellipsis {  background: var(--jp-layout-color0);  color: var(--jp-cell-editor-border-color);}\n",
       ".datatable .na {  color: var(--jp-cell-editor-border-color);  font-size: 80%;}\n",
       ".datatable .sp {  opacity: 0.25;}\n",
       ".datatable .footer { font-size: 9px; }\n",
       ".datatable .frame_dimensions {  background: var(--jp-border-color3);  border-top: 1px solid var(--jp-border-color0);  color: var(--jp-ui-font-color3);  display: inline-block;  opacity: 0.6;  padding: 1px 10px 1px 5px;}\n",
       "</style>\n"
      ],
      "text/plain": [
       "<IPython.core.display.HTML object>"
      ]
     },
     "metadata": {},
     "output_type": "display_data"
    },
    {
     "name": "stdout",
     "output_type": "stream",
     "text": [
      "[ 6.  6.  6.  6.  6.  6.  6.  6.  6.  2.  2.  2.  2.  2.  2.  2.  2.  2.\n",
      "  2.  2.  2.  2.  8.  8.  5.  3.  1.  1.  1.  1.  1.  1.  1.  1.  1.  1.\n",
      "  1.  1.  1.  1.  1.  1.  1.  1.  1. 17. 17.  8.  8.  8.  8.  8.  8.  8.\n",
      "  8.  8.  8.  8.  8.  8.  8.  8.  8.  8.  8.  8.  8.  8.  8.  8.  8.  8.\n",
      "  8.  8.  8.  8.  8.  8.  8.  8.  8.  8.  8.  8.  8.  8.  8.  8.  8.  8.\n",
      "  8.  8.  8.  8.  8.  8.  8.  8.  8.  8.  8.  8.  8.  8.  8.  8.  8.  8.\n",
      "  8.  8.  8.  8.  8.  8.  8.  8.  8.  8.  6. 15. 15. 15.  6.  6.  6.  6.\n",
      "  6.  6.  6.  6.  6.  6.  6. 19. 12. 18.  7.  7.  7.  7.  1.  3.  2.  2.\n",
      "  7.  7.  7.  7.  7.  7.  7.  7.  7.  7.  7.  7.  7.  7.  1.  7.  7.  7.\n",
      "  7.  7.  3.  3.  3.  8.  8.  2.  2.  2.  3.  1.  2.  1.  3.  2.  2.  3.\n",
      "  3.  2.  2.  3.  3.  2.  1.  2.  1.  3.  2.  3.  3.  2.  2.  3.  1.  1.\n",
      "  3.  3.  3.  1.  5.  2.  2.  7.  2.  3.  1.  2.  2.  7.  3.  1.  1.  2.\n",
      "  2.  2. 18.  5.  5.  5.  5. 12.  6. 17. 14.  7.  6.  6.  2.  1.  2.  1.\n",
      "  2.  1.  1.  1.  2.  1.  3.  1.  1.  2.  1.  2.  2.  2.  2.  2.  2. 15.\n",
      "  2.  2.  2.  2.  3.  1.  2.  8.  2.  2.  1.  1.  2.  7.  1.  1.  2.  8.\n",
      "  2.  2.  3.  2.  8.  2.  2.  2.  2.  2.  2.  2.  2.  3.  2.  2.  2.  2.\n",
      "  5.  1.  2.  2.  1.  2. 15.  8. 15.  8. 15.  8.  8. 15.  8. 15. 15.  8.\n",
      "  8.  8.  8.  8.  8.  8.  8. 10. 14. 10. 15. 17.]\n",
      "Dimension of the complete dataset (318, 5):\n",
      "Dimension of the train set (254, 4):\n",
      "Dimension of the test set (64, 4):\n"
     ]
    }
   ],
   "source": [
    "#X_train, X_test, y_train, y_test = np.transpose(np.array(X[:,1:])),np.transpose(np.array(X[:,1:])),np.transpose(X[:,0]),np.transpose(X[:,0])\n",
    "data = X\n",
    "#X_train, X_test, y_train, y_test = train_test_split(data[:,:-1], data[:,-1], test_size=0.2, random_state=42)\n",
    "import datatable as dt\n",
    "import numpy as np\n",
    "from sklearn.model_selection import train_test_split\n",
    "\n",
    "print(data[:, 0])\n",
    "\n",
    "\n",
    "X_train, X_test, y_train, y_test = train_test_split(data[:, 1:], data[:, 0], test_size=0.2)\n",
    "\n",
    "\n",
    "print(\"Dimension of the complete dataset (%0.0f, %0.0f):\" % (data.shape[0], data.shape[1]))\n",
    "print(\"Dimension of the train set (%0.0f, %0.0f):\" % (X_train.shape[0], X_train.shape[1]))\n",
    "print(\"Dimension of the test set (%0.0f, %0.0f):\" % (X_test.shape[0], X_test.shape[1]))"
   ]
  },
  {
   "cell_type": "markdown",
   "metadata": {},
   "source": [
    "# The nearest neighbor classification"
   ]
  },
  {
   "cell_type": "code",
   "execution_count": 38,
   "metadata": {},
   "outputs": [
    {
     "name": "stdout",
     "output_type": "stream",
     "text": [
      "score moyen de validation croisée: 0.508 (+/- 0.008)\n"
     ]
    },
    {
     "name": "stderr",
     "output_type": "stream",
     "text": [
      "c:\\Users\\Marouane\\AppData\\Local\\Programs\\Python\\Python39\\lib\\site-packages\\sklearn\\model_selection\\_split.py:680: UserWarning:\n",
      "\n",
      "The least populated class in y has only 1 members, which is less than n_splits=2.\n",
      "\n"
     ]
    }
   ],
   "source": [
    "\n",
    "X, y = data[:, 1:], data[:, 0]\n",
    "\n",
    "X_train, X_test, y_train, y_test = train_test_split(data[:, 1:], data[:, 0], test_size=0.2)\n",
    "\n",
    "knn = neighbors.KNeighborsClassifier(n_neighbors=1) \n",
    "scores = cross_val_score(knn,X_train,y_train,cv=2,error_score='raise')\n",
    "print(\"score moyen de validation croisée: %0.3f (+/- %0.3f)\" % (scores.mean(),2*scores.std()))\n",
    "# la prédiction d'une nouvelle observation consistera à chercher le p.p.v. dans X_train, \n",
    "# et à associer la classe de ce p.p.v., donnée par y_train:\n",
    "knn.fit(X_train,y_train)  \n",
    "# Remarque: il n'y a pas d'apprentissage à proprement parler pour les p.p.v., \n",
    "# il s'agit juste de préciser la base dans laquelle seront cherchés les plus proches voisins\n",
    "\n",
    "# on stocke dans y_pred les classes prédites sur un ensemble de test X_test:\n",
    "y_pred = knn.predict(X_test)  \n",
    "\n",
    "# calcul d'un score lorsqu'on connaît les vraies classes des observations de X_test: \n",
    "# (proportion d'observations pour lesquelles y_test==y_pred)\n",
    "score = knn.score(X_test,y_test)"
   ]
  },
  {
   "cell_type": "code",
   "execution_count": 29,
   "metadata": {},
   "outputs": [],
   "source": [
    "import plotly.graph_objects as go"
   ]
  },
  {
   "cell_type": "code",
   "execution_count": 30,
   "metadata": {},
   "outputs": [
    {
     "name": "stderr",
     "output_type": "stream",
     "text": [
      "C:\\Users\\Marouane\\AppData\\Local\\Temp/ipykernel_10904/1286944595.py:10: FutureWarning:\n",
      "\n",
      "elementwise comparison failed; returning scalar instead, but in the future will perform elementwise comparison\n",
      "\n"
     ]
    },
    {
     "data": {
      "application/vnd.plotly.v1+json": {
       "config": {
        "plotlyServerURL": "https://plot.ly"
       },
       "data": [
        {
         "marker": {
          "color": "lightyellow",
          "line": {
           "width": 1.5
          },
          "size": 12,
          "symbol": "square"
         },
         "mode": "markers",
         "name": "Train Split, Label 0",
         "type": "scatter",
         "x": [],
         "y": []
        },
        {
         "marker": {
          "color": "lightyellow",
          "line": {
           "width": 1.5
          },
          "size": 12,
          "symbol": "circle"
         },
         "mode": "markers",
         "name": "Train Split, Label 1",
         "type": "scatter",
         "x": [],
         "y": []
        },
        {
         "marker": {
          "color": "lightyellow",
          "line": {
           "width": 1.5
          },
          "size": 12,
          "symbol": "square-dot"
         },
         "mode": "markers",
         "name": "Test Split, Label 0",
         "type": "scatter",
         "x": [],
         "y": []
        },
        {
         "marker": {
          "color": "lightyellow",
          "line": {
           "width": 1.5
          },
          "size": 12,
          "symbol": "circle-dot"
         },
         "mode": "markers",
         "name": "Test Split, Label 1",
         "type": "scatter",
         "x": [],
         "y": []
        }
       ],
       "layout": {
        "template": {
         "data": {
          "bar": [
           {
            "error_x": {
             "color": "#2a3f5f"
            },
            "error_y": {
             "color": "#2a3f5f"
            },
            "marker": {
             "line": {
              "color": "#E5ECF6",
              "width": 0.5
             },
             "pattern": {
              "fillmode": "overlay",
              "size": 10,
              "solidity": 0.2
             }
            },
            "type": "bar"
           }
          ],
          "barpolar": [
           {
            "marker": {
             "line": {
              "color": "#E5ECF6",
              "width": 0.5
             },
             "pattern": {
              "fillmode": "overlay",
              "size": 10,
              "solidity": 0.2
             }
            },
            "type": "barpolar"
           }
          ],
          "carpet": [
           {
            "aaxis": {
             "endlinecolor": "#2a3f5f",
             "gridcolor": "white",
             "linecolor": "white",
             "minorgridcolor": "white",
             "startlinecolor": "#2a3f5f"
            },
            "baxis": {
             "endlinecolor": "#2a3f5f",
             "gridcolor": "white",
             "linecolor": "white",
             "minorgridcolor": "white",
             "startlinecolor": "#2a3f5f"
            },
            "type": "carpet"
           }
          ],
          "choropleth": [
           {
            "colorbar": {
             "outlinewidth": 0,
             "ticks": ""
            },
            "type": "choropleth"
           }
          ],
          "contour": [
           {
            "colorbar": {
             "outlinewidth": 0,
             "ticks": ""
            },
            "colorscale": [
             [
              0,
              "#0d0887"
             ],
             [
              0.1111111111111111,
              "#46039f"
             ],
             [
              0.2222222222222222,
              "#7201a8"
             ],
             [
              0.3333333333333333,
              "#9c179e"
             ],
             [
              0.4444444444444444,
              "#bd3786"
             ],
             [
              0.5555555555555556,
              "#d8576b"
             ],
             [
              0.6666666666666666,
              "#ed7953"
             ],
             [
              0.7777777777777778,
              "#fb9f3a"
             ],
             [
              0.8888888888888888,
              "#fdca26"
             ],
             [
              1,
              "#f0f921"
             ]
            ],
            "type": "contour"
           }
          ],
          "contourcarpet": [
           {
            "colorbar": {
             "outlinewidth": 0,
             "ticks": ""
            },
            "type": "contourcarpet"
           }
          ],
          "heatmap": [
           {
            "colorbar": {
             "outlinewidth": 0,
             "ticks": ""
            },
            "colorscale": [
             [
              0,
              "#0d0887"
             ],
             [
              0.1111111111111111,
              "#46039f"
             ],
             [
              0.2222222222222222,
              "#7201a8"
             ],
             [
              0.3333333333333333,
              "#9c179e"
             ],
             [
              0.4444444444444444,
              "#bd3786"
             ],
             [
              0.5555555555555556,
              "#d8576b"
             ],
             [
              0.6666666666666666,
              "#ed7953"
             ],
             [
              0.7777777777777778,
              "#fb9f3a"
             ],
             [
              0.8888888888888888,
              "#fdca26"
             ],
             [
              1,
              "#f0f921"
             ]
            ],
            "type": "heatmap"
           }
          ],
          "heatmapgl": [
           {
            "colorbar": {
             "outlinewidth": 0,
             "ticks": ""
            },
            "colorscale": [
             [
              0,
              "#0d0887"
             ],
             [
              0.1111111111111111,
              "#46039f"
             ],
             [
              0.2222222222222222,
              "#7201a8"
             ],
             [
              0.3333333333333333,
              "#9c179e"
             ],
             [
              0.4444444444444444,
              "#bd3786"
             ],
             [
              0.5555555555555556,
              "#d8576b"
             ],
             [
              0.6666666666666666,
              "#ed7953"
             ],
             [
              0.7777777777777778,
              "#fb9f3a"
             ],
             [
              0.8888888888888888,
              "#fdca26"
             ],
             [
              1,
              "#f0f921"
             ]
            ],
            "type": "heatmapgl"
           }
          ],
          "histogram": [
           {
            "marker": {
             "pattern": {
              "fillmode": "overlay",
              "size": 10,
              "solidity": 0.2
             }
            },
            "type": "histogram"
           }
          ],
          "histogram2d": [
           {
            "colorbar": {
             "outlinewidth": 0,
             "ticks": ""
            },
            "colorscale": [
             [
              0,
              "#0d0887"
             ],
             [
              0.1111111111111111,
              "#46039f"
             ],
             [
              0.2222222222222222,
              "#7201a8"
             ],
             [
              0.3333333333333333,
              "#9c179e"
             ],
             [
              0.4444444444444444,
              "#bd3786"
             ],
             [
              0.5555555555555556,
              "#d8576b"
             ],
             [
              0.6666666666666666,
              "#ed7953"
             ],
             [
              0.7777777777777778,
              "#fb9f3a"
             ],
             [
              0.8888888888888888,
              "#fdca26"
             ],
             [
              1,
              "#f0f921"
             ]
            ],
            "type": "histogram2d"
           }
          ],
          "histogram2dcontour": [
           {
            "colorbar": {
             "outlinewidth": 0,
             "ticks": ""
            },
            "colorscale": [
             [
              0,
              "#0d0887"
             ],
             [
              0.1111111111111111,
              "#46039f"
             ],
             [
              0.2222222222222222,
              "#7201a8"
             ],
             [
              0.3333333333333333,
              "#9c179e"
             ],
             [
              0.4444444444444444,
              "#bd3786"
             ],
             [
              0.5555555555555556,
              "#d8576b"
             ],
             [
              0.6666666666666666,
              "#ed7953"
             ],
             [
              0.7777777777777778,
              "#fb9f3a"
             ],
             [
              0.8888888888888888,
              "#fdca26"
             ],
             [
              1,
              "#f0f921"
             ]
            ],
            "type": "histogram2dcontour"
           }
          ],
          "mesh3d": [
           {
            "colorbar": {
             "outlinewidth": 0,
             "ticks": ""
            },
            "type": "mesh3d"
           }
          ],
          "parcoords": [
           {
            "line": {
             "colorbar": {
              "outlinewidth": 0,
              "ticks": ""
             }
            },
            "type": "parcoords"
           }
          ],
          "pie": [
           {
            "automargin": true,
            "type": "pie"
           }
          ],
          "scatter": [
           {
            "marker": {
             "colorbar": {
              "outlinewidth": 0,
              "ticks": ""
             }
            },
            "type": "scatter"
           }
          ],
          "scatter3d": [
           {
            "line": {
             "colorbar": {
              "outlinewidth": 0,
              "ticks": ""
             }
            },
            "marker": {
             "colorbar": {
              "outlinewidth": 0,
              "ticks": ""
             }
            },
            "type": "scatter3d"
           }
          ],
          "scattercarpet": [
           {
            "marker": {
             "colorbar": {
              "outlinewidth": 0,
              "ticks": ""
             }
            },
            "type": "scattercarpet"
           }
          ],
          "scattergeo": [
           {
            "marker": {
             "colorbar": {
              "outlinewidth": 0,
              "ticks": ""
             }
            },
            "type": "scattergeo"
           }
          ],
          "scattergl": [
           {
            "marker": {
             "colorbar": {
              "outlinewidth": 0,
              "ticks": ""
             }
            },
            "type": "scattergl"
           }
          ],
          "scattermapbox": [
           {
            "marker": {
             "colorbar": {
              "outlinewidth": 0,
              "ticks": ""
             }
            },
            "type": "scattermapbox"
           }
          ],
          "scatterpolar": [
           {
            "marker": {
             "colorbar": {
              "outlinewidth": 0,
              "ticks": ""
             }
            },
            "type": "scatterpolar"
           }
          ],
          "scatterpolargl": [
           {
            "marker": {
             "colorbar": {
              "outlinewidth": 0,
              "ticks": ""
             }
            },
            "type": "scatterpolargl"
           }
          ],
          "scatterternary": [
           {
            "marker": {
             "colorbar": {
              "outlinewidth": 0,
              "ticks": ""
             }
            },
            "type": "scatterternary"
           }
          ],
          "surface": [
           {
            "colorbar": {
             "outlinewidth": 0,
             "ticks": ""
            },
            "colorscale": [
             [
              0,
              "#0d0887"
             ],
             [
              0.1111111111111111,
              "#46039f"
             ],
             [
              0.2222222222222222,
              "#7201a8"
             ],
             [
              0.3333333333333333,
              "#9c179e"
             ],
             [
              0.4444444444444444,
              "#bd3786"
             ],
             [
              0.5555555555555556,
              "#d8576b"
             ],
             [
              0.6666666666666666,
              "#ed7953"
             ],
             [
              0.7777777777777778,
              "#fb9f3a"
             ],
             [
              0.8888888888888888,
              "#fdca26"
             ],
             [
              1,
              "#f0f921"
             ]
            ],
            "type": "surface"
           }
          ],
          "table": [
           {
            "cells": {
             "fill": {
              "color": "#EBF0F8"
             },
             "line": {
              "color": "white"
             }
            },
            "header": {
             "fill": {
              "color": "#C8D4E3"
             },
             "line": {
              "color": "white"
             }
            },
            "type": "table"
           }
          ]
         },
         "layout": {
          "annotationdefaults": {
           "arrowcolor": "#2a3f5f",
           "arrowhead": 0,
           "arrowwidth": 1
          },
          "autotypenumbers": "strict",
          "coloraxis": {
           "colorbar": {
            "outlinewidth": 0,
            "ticks": ""
           }
          },
          "colorscale": {
           "diverging": [
            [
             0,
             "#8e0152"
            ],
            [
             0.1,
             "#c51b7d"
            ],
            [
             0.2,
             "#de77ae"
            ],
            [
             0.3,
             "#f1b6da"
            ],
            [
             0.4,
             "#fde0ef"
            ],
            [
             0.5,
             "#f7f7f7"
            ],
            [
             0.6,
             "#e6f5d0"
            ],
            [
             0.7,
             "#b8e186"
            ],
            [
             0.8,
             "#7fbc41"
            ],
            [
             0.9,
             "#4d9221"
            ],
            [
             1,
             "#276419"
            ]
           ],
           "sequential": [
            [
             0,
             "#0d0887"
            ],
            [
             0.1111111111111111,
             "#46039f"
            ],
            [
             0.2222222222222222,
             "#7201a8"
            ],
            [
             0.3333333333333333,
             "#9c179e"
            ],
            [
             0.4444444444444444,
             "#bd3786"
            ],
            [
             0.5555555555555556,
             "#d8576b"
            ],
            [
             0.6666666666666666,
             "#ed7953"
            ],
            [
             0.7777777777777778,
             "#fb9f3a"
            ],
            [
             0.8888888888888888,
             "#fdca26"
            ],
            [
             1,
             "#f0f921"
            ]
           ],
           "sequentialminus": [
            [
             0,
             "#0d0887"
            ],
            [
             0.1111111111111111,
             "#46039f"
            ],
            [
             0.2222222222222222,
             "#7201a8"
            ],
            [
             0.3333333333333333,
             "#9c179e"
            ],
            [
             0.4444444444444444,
             "#bd3786"
            ],
            [
             0.5555555555555556,
             "#d8576b"
            ],
            [
             0.6666666666666666,
             "#ed7953"
            ],
            [
             0.7777777777777778,
             "#fb9f3a"
            ],
            [
             0.8888888888888888,
             "#fdca26"
            ],
            [
             1,
             "#f0f921"
            ]
           ]
          },
          "colorway": [
           "#636efa",
           "#EF553B",
           "#00cc96",
           "#ab63fa",
           "#FFA15A",
           "#19d3f3",
           "#FF6692",
           "#B6E880",
           "#FF97FF",
           "#FECB52"
          ],
          "font": {
           "color": "#2a3f5f"
          },
          "geo": {
           "bgcolor": "white",
           "lakecolor": "white",
           "landcolor": "#E5ECF6",
           "showlakes": true,
           "showland": true,
           "subunitcolor": "white"
          },
          "hoverlabel": {
           "align": "left"
          },
          "hovermode": "closest",
          "mapbox": {
           "style": "light"
          },
          "paper_bgcolor": "white",
          "plot_bgcolor": "#E5ECF6",
          "polar": {
           "angularaxis": {
            "gridcolor": "white",
            "linecolor": "white",
            "ticks": ""
           },
           "bgcolor": "#E5ECF6",
           "radialaxis": {
            "gridcolor": "white",
            "linecolor": "white",
            "ticks": ""
           }
          },
          "scene": {
           "xaxis": {
            "backgroundcolor": "#E5ECF6",
            "gridcolor": "white",
            "gridwidth": 2,
            "linecolor": "white",
            "showbackground": true,
            "ticks": "",
            "zerolinecolor": "white"
           },
           "yaxis": {
            "backgroundcolor": "#E5ECF6",
            "gridcolor": "white",
            "gridwidth": 2,
            "linecolor": "white",
            "showbackground": true,
            "ticks": "",
            "zerolinecolor": "white"
           },
           "zaxis": {
            "backgroundcolor": "#E5ECF6",
            "gridcolor": "white",
            "gridwidth": 2,
            "linecolor": "white",
            "showbackground": true,
            "ticks": "",
            "zerolinecolor": "white"
           }
          },
          "shapedefaults": {
           "line": {
            "color": "#2a3f5f"
           }
          },
          "ternary": {
           "aaxis": {
            "gridcolor": "white",
            "linecolor": "white",
            "ticks": ""
           },
           "baxis": {
            "gridcolor": "white",
            "linecolor": "white",
            "ticks": ""
           },
           "bgcolor": "#E5ECF6",
           "caxis": {
            "gridcolor": "white",
            "linecolor": "white",
            "ticks": ""
           }
          },
          "title": {
           "x": 0.05
          },
          "xaxis": {
           "automargin": true,
           "gridcolor": "white",
           "linecolor": "white",
           "ticks": "",
           "title": {
            "standoff": 15
           },
           "zerolinecolor": "white",
           "zerolinewidth": 2
          },
          "yaxis": {
           "automargin": true,
           "gridcolor": "white",
           "linecolor": "white",
           "ticks": "",
           "title": {
            "standoff": 15
           },
           "zerolinecolor": "white",
           "zerolinewidth": 2
          }
         }
        }
       }
      }
     },
     "metadata": {},
     "output_type": "display_data"
    }
   ],
   "source": [
    "\n",
    "trace_specs = [\n",
    "    [X_train, y_train, '0', 'Train', 'square'],\n",
    "    [X_train, y_train, '1', 'Train', 'circle'],\n",
    "    [X_test, y_test, '0', 'Test', 'square-dot'],\n",
    "    [X_test, y_test, '1', 'Test', 'circle-dot']\n",
    "]\n",
    "\n",
    "fig = go.Figure(data=[\n",
    "    go.Scatter(\n",
    "        x=X[y==label, 0], y=X[y==label, 1],\n",
    "        name=f'{split} Split, Label {label}',\n",
    "        mode='markers', marker_symbol=marker\n",
    "    )\n",
    "    for X, y, label, split, marker in trace_specs\n",
    "])\n",
    "fig.update_traces(\n",
    "    marker_size=12, marker_line_width=1.5,\n",
    "    marker_color=\"lightyellow\"\n",
    ")\n",
    "fig.show()"
   ]
  },
  {
   "cell_type": "code",
   "execution_count": 49,
   "metadata": {},
   "outputs": [
    {
     "data": {
      "application/vnd.plotly.v1+json": {
       "config": {
        "plotlyServerURL": "https://plot.ly"
       },
       "data": [
        {
         "hovertemplate": "label=2.0<br>0=%{x}<br>1=%{y}<br>score of <br>accuracy=%{marker.color}<extra></extra>",
         "legendgroup": "2.0",
         "marker": {
          "color": [
           0.8666666666666667,
           0.5333333333333333,
           0.13333333333333333,
           0.6,
           0.8,
           0.8,
           0.8,
           0.8666666666666667,
           0.8,
           0.8666666666666667,
           0.8,
           0.5333333333333333,
           0.9333333333333333,
           0.8,
           0.8666666666666667,
           0.9333333333333333
          ],
          "coloraxis": "coloraxis",
          "line": {
           "width": 1.5
          },
          "size": 12,
          "symbol": "square"
         },
         "mode": "markers",
         "name": "2.0",
         "orientation": "v",
         "showlegend": true,
         "type": "scatter",
         "x": [
          3.33098,
          6.8,
          24.73,
          8.10112,
          7.15,
          7.2,
          6.02028,
          3.29986,
          6.65,
          6.58003,
          6.65,
          8,
          3.4,
          6.79976,
          6.4,
          3.4
         ],
         "xaxis": "x",
         "y": [
          3.92565,
          0.00596018,
          3.05553,
          5.70296,
          6.67998,
          6.86935,
          4.30701,
          2.80398,
          4.79859,
          6.99358,
          5.66977,
          5.23599,
          5.2422,
          6.54151,
          7.17746,
          4.17517
         ],
         "yaxis": "y"
        },
        {
         "hovertemplate": "label=8.0<br>0=%{x}<br>1=%{y}<br>score of <br>accuracy=%{marker.color}<extra></extra>",
         "legendgroup": "8.0",
         "marker": {
          "color": [
           0,
           0,
           0,
           0.2,
           0,
           0,
           0,
           0,
           0,
           0,
           0.06666666666666667,
           0.13333333333333333,
           0,
           0,
           0
          ],
          "coloraxis": "coloraxis",
          "line": {
           "width": 1.5
          },
          "size": 12,
          "symbol": "x"
         },
         "mode": "markers",
         "name": "8.0",
         "orientation": "v",
         "showlegend": true,
         "type": "scatter",
         "x": [
          145.6,
          103.4,
          289,
          20.6,
          374,
          251.25,
          126.6,
          65.5,
          112,
          57,
          57,
          32.2,
          65.4988,
          68.47,
          344.5
         ],
         "xaxis": "x",
         "y": [
          5.59416,
          8.19092,
          6.20364,
          6.99702,
          5.32899,
          4.2287,
          1.91018,
          25.1761,
          3.85384,
          5.68028,
          11.1951,
          9.65279,
          2.97105,
          2.62505,
          4.65967
         ],
         "yaxis": "y"
        },
        {
         "hovertemplate": "label=3.0<br>0=%{x}<br>1=%{y}<br>score of <br>accuracy=%{marker.color}<extra></extra>",
         "legendgroup": "3.0",
         "marker": {
          "color": [
           0,
           0.06666666666666667,
           0.06666666666666667,
           0,
           0.06666666666666667,
           0
          ],
          "coloraxis": "coloraxis",
          "line": {
           "width": 1.5
          },
          "size": 12,
          "symbol": "cross"
         },
         "mode": "markers",
         "name": "3.0",
         "orientation": "v",
         "showlegend": true,
         "type": "scatter",
         "x": [
          66,
          46.3321,
          43.2,
          68,
          47.4,
          59.5
         ],
         "xaxis": "x",
         "y": [
          2.32916,
          2.40907,
          2.47231,
          2.57778,
          2.57412,
          2.57203
         ],
         "yaxis": "y"
        },
        {
         "hovertemplate": "label=17.0<br>0=%{x}<br>1=%{y}<br>score of <br>accuracy=%{marker.color}<extra></extra>",
         "legendgroup": "17.0",
         "marker": {
          "color": [
           0.06666666666666667
          ],
          "coloraxis": "coloraxis",
          "line": {
           "width": 1.5
          },
          "size": 12,
          "symbol": "circle"
         },
         "mode": "markers",
         "name": "17.0",
         "orientation": "v",
         "showlegend": true,
         "type": "scatter",
         "x": [
          38
         ],
         "xaxis": "x",
         "y": [
          6.57193
         ],
         "yaxis": "y"
        },
        {
         "hovertemplate": "label=1.0<br>0=%{x}<br>1=%{y}<br>score of <br>accuracy=%{marker.color}<extra></extra>",
         "legendgroup": "1.0",
         "marker": {
          "color": [
           0.3333333333333333,
           0.2,
           0.2,
           0.3333333333333333,
           0.4666666666666667,
           0.6,
           0.3333333333333333,
           0.26666666666666666,
           0.6
          ],
          "coloraxis": "coloraxis",
          "line": {
           "width": 1.5
          },
          "size": 12,
          "symbol": "diamond"
         },
         "mode": "markers",
         "name": "1.0",
         "orientation": "v",
         "showlegend": true,
         "type": "scatter",
         "x": [
          9.4,
          16.52,
          13.0153,
          15.2007,
          9.55334,
          8.07814,
          10.7435,
          15.85,
          13.4
         ],
         "xaxis": "x",
         "y": [
          2.04617,
          4.52752,
          7.09037,
          7.59231,
          8.20752,
          5.18104,
          6.45101,
          7.42315,
          13.5186
         ],
         "yaxis": "y"
        },
        {
         "hovertemplate": "label=5.0<br>0=%{x}<br>1=%{y}<br>score of <br>accuracy=%{marker.color}<extra></extra>",
         "legendgroup": "5.0",
         "marker": {
          "color": [
           0.06666666666666667,
           0,
           0
          ],
          "coloraxis": "coloraxis",
          "line": {
           "width": 1.5
          },
          "size": 12,
          "symbol": "square"
         },
         "mode": "markers",
         "name": "5.0",
         "orientation": "v",
         "showlegend": true,
         "type": "scatter",
         "x": [
          44.3,
          145.5,
          145.5
         ],
         "xaxis": "x",
         "y": [
          2.7644,
          3.60009,
          3.60009
         ],
         "yaxis": "y"
        },
        {
         "hovertemplate": "label=7.0<br>0=%{x}<br>1=%{y}<br>score of <br>accuracy=%{marker.color}<extra></extra>",
         "legendgroup": "7.0",
         "marker": {
          "color": [
           0,
           0,
           0,
           0.13333333333333333,
           0,
           0,
           0.2
          ],
          "coloraxis": "coloraxis",
          "line": {
           "width": 1.5
          },
          "size": 12,
          "symbol": "x"
         },
         "mode": "markers",
         "name": "7.0",
         "orientation": "v",
         "showlegend": true,
         "type": "scatter",
         "x": [
          59.2899,
          83,
          72.0079,
          40.8,
          107.199,
          145.5,
          10.0662
         ],
         "xaxis": "x",
         "y": [
          1.78472,
          3.21003,
          2.62233,
          2.78277,
          2.96328,
          3.60009,
          5.27103
         ],
         "yaxis": "y"
        },
        {
         "hovertemplate": "label=6.0<br>0=%{x}<br>1=%{y}<br>score of <br>accuracy=%{marker.color}<extra></extra>",
         "legendgroup": "6.0",
         "marker": {
          "color": [
           0.06666666666666667,
           0,
           0.06666666666666667,
           0
          ],
          "coloraxis": "coloraxis",
          "line": {
           "width": 1.5
          },
          "size": 12,
          "symbol": "cross"
         },
         "mode": "markers",
         "name": "6.0",
         "orientation": "v",
         "showlegend": true,
         "type": "scatter",
         "x": [
          44.5,
          118,
          53.6033,
          153.127
         ],
         "xaxis": "x",
         "y": [
          4.82636,
          6.00692,
          8.05988,
          8.88761
         ],
         "yaxis": "y"
        },
        {
         "hovertemplate": "label=19.0<br>0=%{x}<br>1=%{y}<br>score of <br>accuracy=%{marker.color}<extra></extra>",
         "legendgroup": "19.0",
         "marker": {
          "color": [
           0
          ],
          "coloraxis": "coloraxis",
          "line": {
           "width": 1.5
          },
          "size": 12,
          "symbol": "circle"
         },
         "mode": "markers",
         "name": "19.0",
         "orientation": "v",
         "showlegend": true,
         "type": "scatter",
         "x": [
          135
         ],
         "xaxis": "x",
         "y": [
          3.68318
         ],
         "yaxis": "y"
        },
        {
         "hovertemplate": "label=15.0<br>0=%{x}<br>1=%{y}<br>score of <br>accuracy=%{marker.color}<extra></extra>",
         "legendgroup": "15.0",
         "marker": {
          "color": [
           0
          ],
          "coloraxis": "coloraxis",
          "line": {
           "width": 1.5
          },
          "size": 12,
          "symbol": "diamond"
         },
         "mode": "markers",
         "name": "15.0",
         "orientation": "v",
         "showlegend": true,
         "type": "scatter",
         "x": [
          486
         ],
         "xaxis": "x",
         "y": [
          5.79606
         ],
         "yaxis": "y"
        },
        {
         "hovertemplate": "label=18.0<br>0=%{x}<br>1=%{y}<br>score of <br>accuracy=%{marker.color}<extra></extra>",
         "legendgroup": "18.0",
         "marker": {
          "color": [
           0
          ],
          "coloraxis": "coloraxis",
          "line": {
           "width": 1.5
          },
          "size": 12,
          "symbol": "square"
         },
         "mode": "markers",
         "name": "18.0",
         "orientation": "v",
         "showlegend": true,
         "type": "scatter",
         "x": [
          1945.77
         ],
         "xaxis": "x",
         "y": [
          7.65172
         ],
         "yaxis": "y"
        }
       ],
       "layout": {
        "coloraxis": {
         "colorbar": {
          "title": {
           "text": "score of <br>accuracy"
          }
         },
         "colorscale": [
          [
           0,
           "rgb(103,0,31)"
          ],
          [
           0.1,
           "rgb(178,24,43)"
          ],
          [
           0.2,
           "rgb(214,96,77)"
          ],
          [
           0.3,
           "rgb(244,165,130)"
          ],
          [
           0.4,
           "rgb(253,219,199)"
          ],
          [
           0.5,
           "rgb(247,247,247)"
          ],
          [
           0.6,
           "rgb(209,229,240)"
          ],
          [
           0.7,
           "rgb(146,197,222)"
          ],
          [
           0.8,
           "rgb(67,147,195)"
          ],
          [
           0.9,
           "rgb(33,102,172)"
          ],
          [
           1,
           "rgb(5,48,97)"
          ]
         ]
        },
        "legend": {
         "orientation": "h",
         "title": {
          "text": "label"
         },
         "tracegroupgap": 0
        },
        "margin": {
         "t": 60
        },
        "template": {
         "data": {
          "bar": [
           {
            "error_x": {
             "color": "#2a3f5f"
            },
            "error_y": {
             "color": "#2a3f5f"
            },
            "marker": {
             "line": {
              "color": "#E5ECF6",
              "width": 0.5
             },
             "pattern": {
              "fillmode": "overlay",
              "size": 10,
              "solidity": 0.2
             }
            },
            "type": "bar"
           }
          ],
          "barpolar": [
           {
            "marker": {
             "line": {
              "color": "#E5ECF6",
              "width": 0.5
             },
             "pattern": {
              "fillmode": "overlay",
              "size": 10,
              "solidity": 0.2
             }
            },
            "type": "barpolar"
           }
          ],
          "carpet": [
           {
            "aaxis": {
             "endlinecolor": "#2a3f5f",
             "gridcolor": "white",
             "linecolor": "white",
             "minorgridcolor": "white",
             "startlinecolor": "#2a3f5f"
            },
            "baxis": {
             "endlinecolor": "#2a3f5f",
             "gridcolor": "white",
             "linecolor": "white",
             "minorgridcolor": "white",
             "startlinecolor": "#2a3f5f"
            },
            "type": "carpet"
           }
          ],
          "choropleth": [
           {
            "colorbar": {
             "outlinewidth": 0,
             "ticks": ""
            },
            "type": "choropleth"
           }
          ],
          "contour": [
           {
            "colorbar": {
             "outlinewidth": 0,
             "ticks": ""
            },
            "colorscale": [
             [
              0,
              "#0d0887"
             ],
             [
              0.1111111111111111,
              "#46039f"
             ],
             [
              0.2222222222222222,
              "#7201a8"
             ],
             [
              0.3333333333333333,
              "#9c179e"
             ],
             [
              0.4444444444444444,
              "#bd3786"
             ],
             [
              0.5555555555555556,
              "#d8576b"
             ],
             [
              0.6666666666666666,
              "#ed7953"
             ],
             [
              0.7777777777777778,
              "#fb9f3a"
             ],
             [
              0.8888888888888888,
              "#fdca26"
             ],
             [
              1,
              "#f0f921"
             ]
            ],
            "type": "contour"
           }
          ],
          "contourcarpet": [
           {
            "colorbar": {
             "outlinewidth": 0,
             "ticks": ""
            },
            "type": "contourcarpet"
           }
          ],
          "heatmap": [
           {
            "colorbar": {
             "outlinewidth": 0,
             "ticks": ""
            },
            "colorscale": [
             [
              0,
              "#0d0887"
             ],
             [
              0.1111111111111111,
              "#46039f"
             ],
             [
              0.2222222222222222,
              "#7201a8"
             ],
             [
              0.3333333333333333,
              "#9c179e"
             ],
             [
              0.4444444444444444,
              "#bd3786"
             ],
             [
              0.5555555555555556,
              "#d8576b"
             ],
             [
              0.6666666666666666,
              "#ed7953"
             ],
             [
              0.7777777777777778,
              "#fb9f3a"
             ],
             [
              0.8888888888888888,
              "#fdca26"
             ],
             [
              1,
              "#f0f921"
             ]
            ],
            "type": "heatmap"
           }
          ],
          "heatmapgl": [
           {
            "colorbar": {
             "outlinewidth": 0,
             "ticks": ""
            },
            "colorscale": [
             [
              0,
              "#0d0887"
             ],
             [
              0.1111111111111111,
              "#46039f"
             ],
             [
              0.2222222222222222,
              "#7201a8"
             ],
             [
              0.3333333333333333,
              "#9c179e"
             ],
             [
              0.4444444444444444,
              "#bd3786"
             ],
             [
              0.5555555555555556,
              "#d8576b"
             ],
             [
              0.6666666666666666,
              "#ed7953"
             ],
             [
              0.7777777777777778,
              "#fb9f3a"
             ],
             [
              0.8888888888888888,
              "#fdca26"
             ],
             [
              1,
              "#f0f921"
             ]
            ],
            "type": "heatmapgl"
           }
          ],
          "histogram": [
           {
            "marker": {
             "pattern": {
              "fillmode": "overlay",
              "size": 10,
              "solidity": 0.2
             }
            },
            "type": "histogram"
           }
          ],
          "histogram2d": [
           {
            "colorbar": {
             "outlinewidth": 0,
             "ticks": ""
            },
            "colorscale": [
             [
              0,
              "#0d0887"
             ],
             [
              0.1111111111111111,
              "#46039f"
             ],
             [
              0.2222222222222222,
              "#7201a8"
             ],
             [
              0.3333333333333333,
              "#9c179e"
             ],
             [
              0.4444444444444444,
              "#bd3786"
             ],
             [
              0.5555555555555556,
              "#d8576b"
             ],
             [
              0.6666666666666666,
              "#ed7953"
             ],
             [
              0.7777777777777778,
              "#fb9f3a"
             ],
             [
              0.8888888888888888,
              "#fdca26"
             ],
             [
              1,
              "#f0f921"
             ]
            ],
            "type": "histogram2d"
           }
          ],
          "histogram2dcontour": [
           {
            "colorbar": {
             "outlinewidth": 0,
             "ticks": ""
            },
            "colorscale": [
             [
              0,
              "#0d0887"
             ],
             [
              0.1111111111111111,
              "#46039f"
             ],
             [
              0.2222222222222222,
              "#7201a8"
             ],
             [
              0.3333333333333333,
              "#9c179e"
             ],
             [
              0.4444444444444444,
              "#bd3786"
             ],
             [
              0.5555555555555556,
              "#d8576b"
             ],
             [
              0.6666666666666666,
              "#ed7953"
             ],
             [
              0.7777777777777778,
              "#fb9f3a"
             ],
             [
              0.8888888888888888,
              "#fdca26"
             ],
             [
              1,
              "#f0f921"
             ]
            ],
            "type": "histogram2dcontour"
           }
          ],
          "mesh3d": [
           {
            "colorbar": {
             "outlinewidth": 0,
             "ticks": ""
            },
            "type": "mesh3d"
           }
          ],
          "parcoords": [
           {
            "line": {
             "colorbar": {
              "outlinewidth": 0,
              "ticks": ""
             }
            },
            "type": "parcoords"
           }
          ],
          "pie": [
           {
            "automargin": true,
            "type": "pie"
           }
          ],
          "scatter": [
           {
            "marker": {
             "colorbar": {
              "outlinewidth": 0,
              "ticks": ""
             }
            },
            "type": "scatter"
           }
          ],
          "scatter3d": [
           {
            "line": {
             "colorbar": {
              "outlinewidth": 0,
              "ticks": ""
             }
            },
            "marker": {
             "colorbar": {
              "outlinewidth": 0,
              "ticks": ""
             }
            },
            "type": "scatter3d"
           }
          ],
          "scattercarpet": [
           {
            "marker": {
             "colorbar": {
              "outlinewidth": 0,
              "ticks": ""
             }
            },
            "type": "scattercarpet"
           }
          ],
          "scattergeo": [
           {
            "marker": {
             "colorbar": {
              "outlinewidth": 0,
              "ticks": ""
             }
            },
            "type": "scattergeo"
           }
          ],
          "scattergl": [
           {
            "marker": {
             "colorbar": {
              "outlinewidth": 0,
              "ticks": ""
             }
            },
            "type": "scattergl"
           }
          ],
          "scattermapbox": [
           {
            "marker": {
             "colorbar": {
              "outlinewidth": 0,
              "ticks": ""
             }
            },
            "type": "scattermapbox"
           }
          ],
          "scatterpolar": [
           {
            "marker": {
             "colorbar": {
              "outlinewidth": 0,
              "ticks": ""
             }
            },
            "type": "scatterpolar"
           }
          ],
          "scatterpolargl": [
           {
            "marker": {
             "colorbar": {
              "outlinewidth": 0,
              "ticks": ""
             }
            },
            "type": "scatterpolargl"
           }
          ],
          "scatterternary": [
           {
            "marker": {
             "colorbar": {
              "outlinewidth": 0,
              "ticks": ""
             }
            },
            "type": "scatterternary"
           }
          ],
          "surface": [
           {
            "colorbar": {
             "outlinewidth": 0,
             "ticks": ""
            },
            "colorscale": [
             [
              0,
              "#0d0887"
             ],
             [
              0.1111111111111111,
              "#46039f"
             ],
             [
              0.2222222222222222,
              "#7201a8"
             ],
             [
              0.3333333333333333,
              "#9c179e"
             ],
             [
              0.4444444444444444,
              "#bd3786"
             ],
             [
              0.5555555555555556,
              "#d8576b"
             ],
             [
              0.6666666666666666,
              "#ed7953"
             ],
             [
              0.7777777777777778,
              "#fb9f3a"
             ],
             [
              0.8888888888888888,
              "#fdca26"
             ],
             [
              1,
              "#f0f921"
             ]
            ],
            "type": "surface"
           }
          ],
          "table": [
           {
            "cells": {
             "fill": {
              "color": "#EBF0F8"
             },
             "line": {
              "color": "white"
             }
            },
            "header": {
             "fill": {
              "color": "#C8D4E3"
             },
             "line": {
              "color": "white"
             }
            },
            "type": "table"
           }
          ]
         },
         "layout": {
          "annotationdefaults": {
           "arrowcolor": "#2a3f5f",
           "arrowhead": 0,
           "arrowwidth": 1
          },
          "autotypenumbers": "strict",
          "coloraxis": {
           "colorbar": {
            "outlinewidth": 0,
            "ticks": ""
           }
          },
          "colorscale": {
           "diverging": [
            [
             0,
             "#8e0152"
            ],
            [
             0.1,
             "#c51b7d"
            ],
            [
             0.2,
             "#de77ae"
            ],
            [
             0.3,
             "#f1b6da"
            ],
            [
             0.4,
             "#fde0ef"
            ],
            [
             0.5,
             "#f7f7f7"
            ],
            [
             0.6,
             "#e6f5d0"
            ],
            [
             0.7,
             "#b8e186"
            ],
            [
             0.8,
             "#7fbc41"
            ],
            [
             0.9,
             "#4d9221"
            ],
            [
             1,
             "#276419"
            ]
           ],
           "sequential": [
            [
             0,
             "#0d0887"
            ],
            [
             0.1111111111111111,
             "#46039f"
            ],
            [
             0.2222222222222222,
             "#7201a8"
            ],
            [
             0.3333333333333333,
             "#9c179e"
            ],
            [
             0.4444444444444444,
             "#bd3786"
            ],
            [
             0.5555555555555556,
             "#d8576b"
            ],
            [
             0.6666666666666666,
             "#ed7953"
            ],
            [
             0.7777777777777778,
             "#fb9f3a"
            ],
            [
             0.8888888888888888,
             "#fdca26"
            ],
            [
             1,
             "#f0f921"
            ]
           ],
           "sequentialminus": [
            [
             0,
             "#0d0887"
            ],
            [
             0.1111111111111111,
             "#46039f"
            ],
            [
             0.2222222222222222,
             "#7201a8"
            ],
            [
             0.3333333333333333,
             "#9c179e"
            ],
            [
             0.4444444444444444,
             "#bd3786"
            ],
            [
             0.5555555555555556,
             "#d8576b"
            ],
            [
             0.6666666666666666,
             "#ed7953"
            ],
            [
             0.7777777777777778,
             "#fb9f3a"
            ],
            [
             0.8888888888888888,
             "#fdca26"
            ],
            [
             1,
             "#f0f921"
            ]
           ]
          },
          "colorway": [
           "#636efa",
           "#EF553B",
           "#00cc96",
           "#ab63fa",
           "#FFA15A",
           "#19d3f3",
           "#FF6692",
           "#B6E880",
           "#FF97FF",
           "#FECB52"
          ],
          "font": {
           "color": "#2a3f5f"
          },
          "geo": {
           "bgcolor": "white",
           "lakecolor": "white",
           "landcolor": "#E5ECF6",
           "showlakes": true,
           "showland": true,
           "subunitcolor": "white"
          },
          "hoverlabel": {
           "align": "left"
          },
          "hovermode": "closest",
          "mapbox": {
           "style": "light"
          },
          "paper_bgcolor": "white",
          "plot_bgcolor": "#E5ECF6",
          "polar": {
           "angularaxis": {
            "gridcolor": "white",
            "linecolor": "white",
            "ticks": ""
           },
           "bgcolor": "#E5ECF6",
           "radialaxis": {
            "gridcolor": "white",
            "linecolor": "white",
            "ticks": ""
           }
          },
          "scene": {
           "xaxis": {
            "backgroundcolor": "#E5ECF6",
            "gridcolor": "white",
            "gridwidth": 2,
            "linecolor": "white",
            "showbackground": true,
            "ticks": "",
            "zerolinecolor": "white"
           },
           "yaxis": {
            "backgroundcolor": "#E5ECF6",
            "gridcolor": "white",
            "gridwidth": 2,
            "linecolor": "white",
            "showbackground": true,
            "ticks": "",
            "zerolinecolor": "white"
           },
           "zaxis": {
            "backgroundcolor": "#E5ECF6",
            "gridcolor": "white",
            "gridwidth": 2,
            "linecolor": "white",
            "showbackground": true,
            "ticks": "",
            "zerolinecolor": "white"
           }
          },
          "shapedefaults": {
           "line": {
            "color": "#2a3f5f"
           }
          },
          "ternary": {
           "aaxis": {
            "gridcolor": "white",
            "linecolor": "white",
            "ticks": ""
           },
           "baxis": {
            "gridcolor": "white",
            "linecolor": "white",
            "ticks": ""
           },
           "bgcolor": "#E5ECF6",
           "caxis": {
            "gridcolor": "white",
            "linecolor": "white",
            "ticks": ""
           }
          },
          "title": {
           "x": 0.05
          },
          "xaxis": {
           "automargin": true,
           "gridcolor": "white",
           "linecolor": "white",
           "ticks": "",
           "title": {
            "standoff": 15
           },
           "zerolinecolor": "white",
           "zerolinewidth": 2
          },
          "yaxis": {
           "automargin": true,
           "gridcolor": "white",
           "linecolor": "white",
           "ticks": "",
           "title": {
            "standoff": 15
           },
           "zerolinecolor": "white",
           "zerolinewidth": 2
          }
         }
        },
        "xaxis": {
         "anchor": "y",
         "domain": [
          0,
          1
         ],
         "title": {
          "text": "0"
         }
        },
        "yaxis": {
         "anchor": "x",
         "domain": [
          0,
          1
         ],
         "title": {
          "text": "1"
         }
        }
       }
      }
     },
     "metadata": {},
     "output_type": "display_data"
    }
   ],
   "source": [
    "import plotly.express as px\n",
    "import numpy as np\n",
    "from sklearn.datasets import make_moons\n",
    "from sklearn.model_selection import train_test_split\n",
    "from sklearn.neighbors import KNeighborsClassifier\n",
    "\n",
    "# Load and split data\n",
    "\n",
    "\n",
    "# Fit the model on training data, predict on test data\n",
    "clf = KNeighborsClassifier(15)\n",
    "clf.fit(X_train, y_train)\n",
    "y_score = clf.predict_proba(X_test)[:, 1]\n",
    "\n",
    "fig = px.scatter(\n",
    "    X_test, x=0, y=1,\n",
    "    color=y_score, color_continuous_scale='RdBu',\n",
    "    symbol=y_test, symbol_map={'0': 'square-dot', '1': 'circle-dot'},\n",
    "    labels={'symbol': 'label', 'color': 'score of <br>accuracy'}\n",
    ")\n",
    "fig.update_traces(marker_size=12, marker_line_width=1.5)\n",
    "fig.update_layout(legend_orientation='h')\n",
    "fig.show()"
   ]
  },
  {
   "cell_type": "code",
   "execution_count": 47,
   "metadata": {},
   "outputs": [
    {
     "name": "stdout",
     "output_type": "stream",
     "text": [
      "[[3.33098e+00 3.92565e+00 3.94725e+00 1.00000e+00]\n",
      " [1.45600e+02 5.59416e+00 2.49997e+01 3.00000e+00]\n",
      " [6.60000e+01 2.32916e+00 6.85109e+00 5.00000e+00]\n",
      " [1.03400e+02 8.19092e+00 9.40698e+00 3.00000e+00]\n",
      " [2.89000e+02 6.20364e+00 3.54535e+01 7.00000e+00]\n",
      " [3.80000e+01 6.57193e+00 7.38527e+00 1.00000e+00]\n",
      " [9.40000e+00 2.04617e+00 2.07796e+00 1.00000e+00]\n",
      " [2.06000e+01 6.99702e+00 8.46629e+00 1.00000e+00]\n",
      " [4.43000e+01 2.76440e+00 7.63538e+00 3.00000e+00]\n",
      " [6.80000e+00 5.96018e-03 1.65981e-01 1.00000e+00]\n",
      " [3.74000e+02 5.32899e+00 2.12796e+01 8.00000e+00]\n",
      " [4.63321e+01 2.40907e+00 9.14766e+00 3.00000e+00]\n",
      " [2.51250e+02 4.22870e+00 1.14359e+01 6.00000e+00]\n",
      " [2.47300e+01 3.05553e+00 3.95394e+00 1.00000e+00]\n",
      " [8.10112e+00 5.70296e+00 6.33524e+00 1.00000e+00]\n",
      " [5.92899e+01 1.78472e+00 6.07348e+00 4.00000e+00]\n",
      " [1.65200e+01 4.52752e+00 6.08340e+00 1.00000e+00]\n",
      " [7.15000e+00 6.67998e+00 6.76091e+00 1.00000e+00]\n",
      " [1.26600e+02 1.91018e+00 4.31658e+01 4.00000e+00]\n",
      " [4.45000e+01 4.82636e+00 5.24488e+00 3.00000e+00]\n",
      " [7.20000e+00 6.86935e+00 6.89192e+00 1.00000e+00]\n",
      " [1.30153e+01 7.09037e+00 7.41380e+00 1.00000e+00]\n",
      " [6.55000e+01 2.51761e+01 3.72539e+01 2.00000e+00]\n",
      " [1.12000e+02 3.85384e+00 1.41118e+01 5.00000e+00]\n",
      " [4.32000e+01 2.47231e+00 9.55507e+00 3.00000e+00]\n",
      " [8.30000e+01 3.21003e+00 1.16361e+01 5.00000e+00]\n",
      " [6.02028e+00 4.30701e+00 4.37081e+00 1.00000e+00]\n",
      " [5.70000e+01 5.68028e+00 8.76624e+00 2.00000e+00]\n",
      " [5.70000e+01 1.11951e+01 1.40210e+01 2.00000e+00]\n",
      " [3.29986e+00 2.80398e+00 2.84119e+00 1.00000e+00]\n",
      " [3.22000e+01 9.65279e+00 1.90305e+01 1.00000e+00]\n",
      " [6.80000e+01 2.57778e+00 9.28338e+00 4.00000e+00]\n",
      " [6.65000e+00 4.79859e+00 4.89323e+00 1.00000e+00]\n",
      " [1.52007e+01 7.59231e+00 8.61700e+00 1.00000e+00]\n",
      " [7.20079e+01 2.62233e+00 8.83126e+00 3.00000e+00]\n",
      " [6.58003e+00 6.99358e+00 7.21029e+00 1.00000e+00]\n",
      " [4.08000e+01 2.78277e+00 8.68923e+00 3.00000e+00]\n",
      " [6.65000e+00 5.66977e+00 6.17190e+00 1.00000e+00]\n",
      " [9.55334e+00 8.20752e+00 8.38293e+00 1.00000e+00]\n",
      " [1.07199e+02 2.96328e+00 9.29974e+00 6.00000e+00]\n",
      " [4.74000e+01 2.57412e+00 7.56530e+00 3.00000e+00]\n",
      " [1.45500e+02 3.60009e+00 9.23995e+00 6.00000e+00]\n",
      " [8.00000e+00 5.23599e+00 5.61445e+00 1.00000e+00]\n",
      " [3.40000e+00 5.24220e+00 5.30926e+00 1.00000e+00]\n",
      " [1.45500e+02 3.60009e+00 1.23921e+01 6.00000e+00]\n",
      " [6.79976e+00 6.54151e+00 6.91240e+00 1.00000e+00]\n",
      " [8.07814e+00 5.18104e+00 5.21287e+00 1.00000e+00]\n",
      " [1.00662e+01 5.27103e+00 5.62790e+00 1.00000e+00]\n",
      " [1.18000e+02 6.00692e+00 1.62356e+01 4.00000e+00]\n",
      " [1.45500e+02 3.60009e+00 9.35912e+00 6.00000e+00]\n",
      " [1.07435e+01 6.45101e+00 6.71796e+00 1.00000e+00]\n",
      " [5.36033e+01 8.05988e+00 9.28217e+00 2.00000e+00]\n",
      " [5.95000e+01 2.57203e+00 1.19025e+01 4.00000e+00]\n",
      " [1.35000e+02 3.68318e+00 8.95806e+00 1.00000e+00]\n",
      " [6.40000e+00 7.17746e+00 7.48073e+00 1.00000e+00]\n",
      " [6.54988e+01 2.97105e+00 2.78475e+01 2.00000e+00]\n",
      " [4.86000e+02 5.79606e+00 1.70034e+01 1.20000e+01]\n",
      " [1.53127e+02 8.88761e+00 1.40496e+01 8.00000e+00]\n",
      " [1.58500e+01 7.42315e+00 7.42315e+00 1.00000e+00]\n",
      " [3.40000e+00 4.17517e+00 4.88871e+00 1.00000e+00]\n",
      " [6.84700e+01 2.62505e+00 1.37059e+01 3.00000e+00]\n",
      " [1.94577e+03 7.65172e+00 1.67549e+01 4.90000e+01]\n",
      " [3.44500e+02 4.65967e+00 1.90130e+01 6.00000e+00]\n",
      " [1.34000e+01 1.35186e+01 1.44188e+01 1.00000e+00]]\n"
     ]
    }
   ],
   "source": [
    "print(X_test)"
   ]
  },
  {
   "cell_type": "markdown",
   "metadata": {},
   "source": [
    "## Linear Discriminant Analysis"
   ]
  },
  {
   "cell_type": "code",
   "execution_count": null,
   "metadata": {},
   "outputs": [],
   "source": [
    "# fit of the lda model\n",
    "clf = lda()"
   ]
  },
  {
   "cell_type": "code",
   "execution_count": null,
   "metadata": {},
   "outputs": [
    {
     "name": "stdout",
     "output_type": "stream",
     "text": [
      "score on each fold:\n",
      "\n",
      "[0.52941176 0.45098039 0.43137255 0.49019608 0.54      ]\n",
      "average cross validated score: 0.488 (+/- 0.085)\n"
     ]
    },
    {
     "name": "stderr",
     "output_type": "stream",
     "text": [
      "c:\\Users\\Marouane\\AppData\\Local\\Programs\\Python\\Python39\\lib\\site-packages\\sklearn\\model_selection\\_split.py:680: UserWarning: The least populated class in y has only 1 members, which is less than n_splits=5.\n",
      "  warnings.warn(\n"
     ]
    }
   ],
   "source": [
    "score_cv = cross_val_score(clf, X_train, y_train, cv=5)\n",
    "print(\"score on each fold:\")\n",
    "print()\n",
    "print(score_cv)\n",
    "print(\"average cross validated score: %0.3f (+/- %0.3f)\" % (score_cv.mean(),2*score_cv.std()))"
   ]
  },
  {
   "cell_type": "code",
   "execution_count": null,
   "metadata": {},
   "outputs": [
    {
     "name": "stdout",
     "output_type": "stream",
     "text": [
      "Accuracy of the model on the test set: 0.328\n"
     ]
    }
   ],
   "source": [
    "# fit of the lda model from the train set\n",
    "clf.fit(X_train,y_train)  \n",
    "\n",
    "# Computation of the score obtained on the test set (when the true label is known)\n",
    "score = clf.score(X_test, y_test)\n",
    "print(\"Accuracy of the model on the test set: %0.3f\" % score)"
   ]
  },
  {
   "cell_type": "code",
   "execution_count": null,
   "metadata": {},
   "outputs": [
    {
     "name": "stdout",
     "output_type": "stream",
     "text": [
      "[12.]\n",
      "[[ 0  8  0  0  0  0  0  0  0  0  0  0  0  0]\n",
      " [ 0  8  0  0  0  1  0  0  0  0  0  0  0  0]\n",
      " [ 0  3  4  0  0  0  3  0  0  0  0  0  0  0]\n",
      " [ 0  0  0  0  1  0  1  0  0  0  0  0  0  0]\n",
      " [ 0  1  0  0  1  0  0  0  0  0  1  0  0  0]\n",
      " [ 0  3  1  0  0  0  0  0  0  0  0  0  0  0]\n",
      " [ 0  5  0  0  0  0 13  0  0  0  0  0  0  0]\n",
      " [ 0  0  0  0  0  0  1  0  0  0  0  0  0  0]\n",
      " [ 0  0  0  0  0  0  0  0  1  0  0  0  0  0]\n",
      " [ 0  0  0  0  0  0  0  0  0  1  0  0  0  0]\n",
      " [ 0  0  0  0  0  0  0  0  0  0  2  0  0  0]\n",
      " [ 0  1  0  0  0  0  1  0  0  0  0  0  0  0]\n",
      " [ 0  0  0  0  0  0  1  0  0  0  0  0  1  0]\n",
      " [ 0  1  0  0  0  0  0  0  0  0  0  0  0  0]]\n",
      "[ 2. 12.  8. 14.  2.  2.  2.  8.  2.  2.  2.  8.  8.  2.  2.  2.  2.  8.\n",
      "  8. 15.  8.  2.  2.  8.  7.  2.  8.  2.  2.  8.  6.  3.  8.  2. 18.  3.\n",
      "  8.  8.  2.  2.  2.  2.  2.  8.  8.  2.  8.  2.  2.  2.  8.  8.  3.  2.\n",
      "  8.  2.  2. 15.  3.  3. 15.  2.  6.  8.]\n"
     ]
    }
   ],
   "source": [
    "# y_pred contains the predicted classes of the test set X_test:\n",
    "y_pred = clf.predict(X_test) \n",
    "\n",
    "pred=clf.predict([[1200,7,34.6,104]])\n",
    "print('The type of bridge is :'pred)\n",
    "\n",
    "print('the confusion matrix is :'confusion_matrix(y_test, y_pred))\n"
   ]
  },
  {
   "cell_type": "code",
   "execution_count": null,
   "metadata": {},
   "outputs": [
    {
     "name": "stdout",
     "output_type": "stream",
     "text": [
      "nombre de piles : 15.014329411764706\n"
     ]
    }
   ],
   "source": [
    "import statistics\n",
    "m=[]\n",
    "\n",
    "for k in range(len(data)):\n",
    "    if data[k,0]==12:\n",
    "        m.append(data[k,1]/data[k,4])\n",
    "mean = statistics.mean(m)\n",
    "print('nombre de piles :',mean)\n"
   ]
  },
  {
   "cell_type": "code",
   "execution_count": null,
   "metadata": {},
   "outputs": [
    {
     "name": "stdout",
     "output_type": "stream",
     "text": [
      "              precision    recall  f1-score   support\n",
      "\n",
      "           1       0.00      0.00      0.00        12\n",
      "           2       0.26      0.91      0.41        11\n",
      "           3       0.50      0.50      0.50         2\n",
      "           4       0.00      0.00      0.00         2\n",
      "           5       0.40      0.25      0.31         8\n",
      "           6       0.00      0.00      0.00         8\n",
      "           7       0.55      0.35      0.43        17\n",
      "           8       0.00      0.00      0.00         0\n",
      "           9       0.00      0.00      0.00         0\n",
      "          10       0.50      1.00      0.67         2\n",
      "          11       0.00      0.00      0.00         2\n",
      "\n",
      "    accuracy                           0.33        64\n",
      "   macro avg       0.20      0.27      0.21        64\n",
      "weighted avg       0.27      0.33      0.26        64\n",
      "\n"
     ]
    },
    {
     "name": "stderr",
     "output_type": "stream",
     "text": [
      "c:\\Users\\Marouane\\AppData\\Local\\Programs\\Python\\Python39\\lib\\site-packages\\sklearn\\metrics\\_classification.py:1327: UndefinedMetricWarning: Precision and F-score are ill-defined and being set to 0.0 in labels with no predicted samples. Use `zero_division` parameter to control this behavior.\n",
      "  _warn_prf(average, modifier, msg_start, len(result))\n",
      "c:\\Users\\Marouane\\AppData\\Local\\Programs\\Python\\Python39\\lib\\site-packages\\sklearn\\metrics\\_classification.py:1327: UndefinedMetricWarning: Recall and F-score are ill-defined and being set to 0.0 in labels with no true samples. Use `zero_division` parameter to control this behavior.\n",
      "  _warn_prf(average, modifier, msg_start, len(result))\n",
      "c:\\Users\\Marouane\\AppData\\Local\\Programs\\Python\\Python39\\lib\\site-packages\\sklearn\\metrics\\_classification.py:1327: UndefinedMetricWarning: Precision and F-score are ill-defined and being set to 0.0 in labels with no predicted samples. Use `zero_division` parameter to control this behavior.\n",
      "  _warn_prf(average, modifier, msg_start, len(result))\n",
      "c:\\Users\\Marouane\\AppData\\Local\\Programs\\Python\\Python39\\lib\\site-packages\\sklearn\\metrics\\_classification.py:1327: UndefinedMetricWarning: Recall and F-score are ill-defined and being set to 0.0 in labels with no true samples. Use `zero_division` parameter to control this behavior.\n",
      "  _warn_prf(average, modifier, msg_start, len(result))\n",
      "c:\\Users\\Marouane\\AppData\\Local\\Programs\\Python\\Python39\\lib\\site-packages\\sklearn\\metrics\\_classification.py:1327: UndefinedMetricWarning: Precision and F-score are ill-defined and being set to 0.0 in labels with no predicted samples. Use `zero_division` parameter to control this behavior.\n",
      "  _warn_prf(average, modifier, msg_start, len(result))\n",
      "c:\\Users\\Marouane\\AppData\\Local\\Programs\\Python\\Python39\\lib\\site-packages\\sklearn\\metrics\\_classification.py:1327: UndefinedMetricWarning: Recall and F-score are ill-defined and being set to 0.0 in labels with no true samples. Use `zero_division` parameter to control this behavior.\n",
      "  _warn_prf(average, modifier, msg_start, len(result))\n"
     ]
    }
   ],
   "source": [
    "target_names = ['1','2','3','4','5','6','7','8','9','10','11']\n",
    "print(classification_report(y_test, y_pred, target_names=target_names))"
   ]
  }
 ],
 "metadata": {
  "interpreter": {
   "hash": "608e85d811240f013dc13de712278cc9e8e97fe6a2147074cd6b0234c03b8c51"
  },
  "kernelspec": {
   "display_name": "Python 3.9.8 64-bit",
   "language": "python",
   "name": "python3"
  },
  "language_info": {
   "codemirror_mode": {
    "name": "ipython",
    "version": 3
   },
   "file_extension": ".py",
   "mimetype": "text/x-python",
   "name": "python",
   "nbconvert_exporter": "python",
   "pygments_lexer": "ipython3",
   "version": "3.9.8"
  },
  "orig_nbformat": 4
 },
 "nbformat": 4,
 "nbformat_minor": 2
}
